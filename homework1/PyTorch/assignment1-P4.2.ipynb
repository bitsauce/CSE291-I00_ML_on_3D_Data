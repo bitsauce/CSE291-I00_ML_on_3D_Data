{
 "cells": [
  {
   "cell_type": "code",
   "execution_count": 1,
   "metadata": {
    "collapsed": true
   },
   "outputs": [],
   "source": [
    "# Inspired by: https://github.com/pytorch/examples/blob/master/mnist/main.py\n",
    "\n",
    "import torch\n",
    "import torch.nn as nn\n",
    "import torch.nn.functional as F\n",
    "import torch.optim as optim\n",
    "from torchvision import datasets, transforms\n",
    "from torch.autograd import Variable"
   ]
  },
  {
   "cell_type": "code",
   "execution_count": 2,
   "metadata": {
    "collapsed": true
   },
   "outputs": [],
   "source": [
    "use_cuda   = False\n",
    "batch_size = 15\n",
    "learn_rate = 0.001\n",
    "num_epochs = 20\n",
    "\n",
    "transform = transforms.Compose([\n",
    "    transforms.ToTensor(),\n",
    "    transforms.Normalize((0.1307, 0.0), (0.3081, 0.0))\n",
    "])\n",
    "\n",
    "train_loader = torch.utils.data.DataLoader(\n",
    "    datasets.MNIST(\"./data\", train=True, download=True, transform=transform),\n",
    "    batch_size=batch_size, shuffle=True\n",
    ")\n",
    "\n",
    "test_loader = torch.utils.data.DataLoader(\n",
    "    datasets.MNIST(\"./data\", train=False, download=True, transform=transform),\n",
    "    batch_size=batch_size, shuffle=True\n",
    ")"
   ]
  },
  {
   "cell_type": "code",
   "execution_count": 3,
   "metadata": {
    "collapsed": true
   },
   "outputs": [],
   "source": [
    "class Net(nn.Module):\n",
    "    def __init__(self):\n",
    "        super(Net, self).__init__()\n",
    "        self.network = nn.Sequential(\n",
    "            nn.Linear(784, 300),\n",
    "            nn.BatchNorm1d(300),\n",
    "            nn.ReLU(),\n",
    "            nn.Linear(300, 100),\n",
    "            nn.BatchNorm1d(100),\n",
    "            nn.ReLU(),\n",
    "            nn.Linear(100, 10)\n",
    "        )\n",
    "\n",
    "    def forward(self, x):\n",
    "        x = x.view(x.size(0), -1)\n",
    "        x = self.network(x)\n",
    "        return F.softmax(x, dim=0)\n",
    "\n",
    "model = Net()\n",
    "if use_cuda:\n",
    "    model.cuda()\n",
    "\n",
    "optimizer = optim.SGD(model.parameters(), lr=learn_rate, momentum=0.0)\n",
    "criterion = nn.CrossEntropyLoss()"
   ]
  },
  {
   "cell_type": "code",
   "execution_count": 4,
   "metadata": {},
   "outputs": [
    {
     "data": {
      "application/vnd.jupyter.widget-view+json": {
       "model_id": "6fa5e94d6d2d4d12beefe385f4011584",
       "version_major": 2,
       "version_minor": 0
      },
      "text/plain": [
       "A Jupyter Widget"
      ]
     },
     "metadata": {},
     "output_type": "display_data"
    },
    {
     "name": "stdout",
     "output_type": "stream",
     "text": [
      "Epoch [1/20]\tTime: 0m 16s\tAverage loss = 0.152468\n",
      "Epoch [2/20]\tTime: 0m 16s\tAverage loss = 0.149412\n",
      "Epoch [3/20]\tTime: 0m 16s\tAverage loss = 0.146436\n",
      "Epoch [4/20]\tTime: 0m 16s\tAverage loss = 0.143575\n",
      "Epoch [5/20]\tTime: 0m 17s\tAverage loss = 0.140481\n",
      "Epoch [6/20]\tTime: 0m 16s\tAverage loss = 0.138114\n",
      "Epoch [7/20]\tTime: 0m 16s\tAverage loss = 0.136466\n",
      "Epoch [8/20]\tTime: 0m 17s\tAverage loss = 0.134772\n",
      "Epoch [9/20]\tTime: 0m 16s\tAverage loss = 0.133051\n",
      "Epoch [10/20]\tTime: 0m 15s\tAverage loss = 0.131413\n",
      "Epoch [11/20]\tTime: 0m 16s\tAverage loss = 0.130089\n",
      "Epoch [12/20]\tTime: 0m 17s\tAverage loss = 0.129061\n",
      "Epoch [13/20]\tTime: 0m 15s\tAverage loss = 0.128463\n",
      "Epoch [14/20]\tTime: 0m 16s\tAverage loss = 0.127960\n",
      "Epoch [15/20]\tTime: 0m 16s\tAverage loss = 0.127634\n",
      "Epoch [16/20]\tTime: 0m 17s\tAverage loss = 0.127222\n",
      "Epoch [17/20]\tTime: 0m 17s\tAverage loss = 0.127057\n",
      "Epoch [18/20]\tTime: 0m 16s\tAverage loss = 0.126835\n",
      "Epoch [19/20]\tTime: 0m 17s\tAverage loss = 0.126597\n",
      "Epoch [20/20]\tTime: 0m 17s\tAverage loss = 0.126517\n"
     ]
    }
   ],
   "source": [
    "from ipywidgets import FloatProgress\n",
    "from IPython.display import display\n",
    "import time\n",
    "\n",
    "progress = FloatProgress(min=0, max=len(train_loader.dataset))\n",
    "display(progress)\n",
    "\n",
    "def train(num_epochs):\n",
    "    model.train()\n",
    "    \n",
    "    stats = { phase: { key: [] for key in [\"time\", \"loss\"] } for phase in [\"train\", \"val\"] }\n",
    "    \n",
    "    for epoch in range(num_epochs):\n",
    "        # For every training data\n",
    "        running_loss = 0\n",
    "        epoch_start_time = time.time()\n",
    "        \n",
    "        for batch_idx, (data, target) in enumerate(train_loader):\n",
    "            progress.value = batch_idx * batch_size\n",
    "            if use_cuda:\n",
    "                data, target = data.cuda(), target.cuda()\n",
    "            data, target = Variable(data), Variable(target)\n",
    "            optimizer.zero_grad()\n",
    "            output = model(data)\n",
    "            loss = criterion(output, target)\n",
    "            loss.backward()\n",
    "            optimizer.step()\n",
    "            \n",
    "            running_loss += loss.data[0]\n",
    "        \n",
    "        time_elapsed = time.time() - epoch_start_time\n",
    "        loss = running_loss / len(train_loader.dataset)\n",
    "        \n",
    "        stats[\"train\"][\"time\"].append(time_elapsed)\n",
    "        stats[\"train\"][\"loss\"].append(loss)\n",
    "        \n",
    "        print(\"Epoch [{}/{}]\\tTime: {:.0f}m {:.0f}s\\tAverage loss = {:.6f}\".format(\n",
    "            epoch+1, num_epochs, time_elapsed // 60, time_elapsed % 60, loss)\n",
    "        )\n",
    "        \n",
    "    return stats\n",
    "\n",
    "stats = train(num_epochs)"
   ]
  },
  {
   "cell_type": "code",
   "execution_count": 5,
   "metadata": {},
   "outputs": [
    {
     "data": {
      "text/plain": [
       "[<matplotlib.lines.Line2D at 0x7f00be48efd0>]"
      ]
     },
     "execution_count": 5,
     "metadata": {},
     "output_type": "execute_result"
    },
    {
     "data": {
      "image/png": "[encoded data removed]",
      "text/plain": [
       "<matplotlib.figure.Figure at 0x7f00eb35b6a0>"
      ]
     },
     "metadata": {},
     "output_type": "display_data"
    }
   ],
   "source": [
    "%matplotlib inline\n",
    "import matplotlib.pyplot as plt\n",
    "import numpy as np\n",
    "\n",
    "plt.plot(np.arange(num_epochs), stats[\"train\"][\"loss\"])"
   ]
  },
  {
   "cell_type": "code",
   "execution_count": 6,
   "metadata": {},
   "outputs": [
    {
     "name": "stdout",
     "output_type": "stream",
     "text": [
      "Test set: Average loss: 0.126683, Accuracy: 7597/10000 (76%)\n"
     ]
    }
   ],
   "source": [
    "def test():\n",
    "    model.eval()\n",
    "    test_loss = 0\n",
    "    correct = 0\n",
    "    for data, target in test_loader:\n",
    "        if use_cuda:\n",
    "            data, target = data.cuda(), target.cuda()\n",
    "        data, target = Variable(data, volatile=True), Variable(target)\n",
    "        output = model(data)\n",
    "        test_loss += criterion(output, target).data[0] # sum up batch loss\n",
    "        pred = output.data.max(1, keepdim=True)[1]     # get the index of the max log-probability\n",
    "        correct += pred.eq(target.data.view_as(pred)).cpu().sum()\n",
    "\n",
    "    test_loss /= len(test_loader.dataset)\n",
    "    print(\"Test set: Average loss: {:.6f}, Accuracy: {}/{} ({:.0f}%)\".format(\n",
    "        test_loss, correct, len(test_loader.dataset),\n",
    "        100.0 * correct / len(test_loader.dataset)))\n",
    "\n",
    "test()"
   ]
  }
 ],
 "metadata": {
  "kernelspec": {
   "display_name": "Python 3",
   "language": "python",
   "name": "python3"
  },
  "language_info": {
   "codemirror_mode": {
    "name": "ipython",
    "version": 3
   },
   "file_extension": ".py",
   "mimetype": "text/x-python",
   "name": "python",
   "nbconvert_exporter": "python",
   "pygments_lexer": "ipython3",
   "version": "3.6.3"
  }
 },
 "nbformat": 4,
 "nbformat_minor": 2
}
