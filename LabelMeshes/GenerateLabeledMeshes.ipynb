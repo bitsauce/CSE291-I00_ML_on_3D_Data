{
 "cells": [
  {
   "cell_type": "markdown",
   "metadata": {},
   "source": [
    "### Dependencies\n",
    "pymesh: http://pymesh.readthedocs.io/en/latest/\n",
    "\n",
    "pypcl: https://github.com/cmpute/pypcl\n",
    "\n",
    "sklearn\n",
    "\n",
    "pandas\n",
    "\n",
    "numpy"
   ]
  },
  {
   "cell_type": "code",
   "execution_count": 1,
   "metadata": {},
   "outputs": [],
   "source": [
    "import pymesh\n",
    "import os\n",
    "from sklearn.neighbors import NearestNeighbors\n",
    "import numpy as np\n",
    "import pandas as pd\n",
    "#import pcl"
   ]
  },
  {
   "cell_type": "code",
   "execution_count": 2,
   "metadata": {},
   "outputs": [],
   "source": [
    "MESHES_DIR = \"PlantDataSurface\"\n",
    "PCL_DIR = \"PointCloudsLabels\"\n",
    "OUTPUT_DIR = \"Output\"\n",
    "\n",
    "USE_BINARY_PCL = False\n",
    "GENERATE_OBJS = True\n",
    "GENERATE_LABELS = True\n",
    "\n",
    "STEM = 0\n",
    "LEAF = 1"
   ]
  },
  {
   "cell_type": "code",
   "execution_count": 3,
   "metadata": {},
   "outputs": [],
   "source": [
    "def process_directory(directory, function, file_ext=None):\n",
    "    for entry in os.listdir(directory):\n",
    "        path = os.path.join(directory, entry)\n",
    "        if os.path.isdir(path):\n",
    "            process_directory(path, function, file_ext)\n",
    "        elif path.lower().endswith(file_ext.lower()):\n",
    "            function(path)"
   ]
  },
  {
   "cell_type": "code",
   "execution_count": 4,
   "metadata": {},
   "outputs": [],
   "source": [
    "def get_file_name(filepath):\n",
    "    return os.path.basename(filepath).split(\".\")[0]"
   ]
  },
  {
   "cell_type": "code",
   "execution_count": 5,
   "metadata": {},
   "outputs": [],
   "source": [
    "pcl_files = {}\n",
    "def registerPointCloudFile(pcl_file):\n",
    "    global pcl_files\n",
    "    pcl_name = get_file_name(pcl_file).lower()\n",
    "    if pcl_name.startswith(\"ctrl\"):\n",
    "        pcl_name = \"control\" + pcl_name[4:]\n",
    "    pcl_files[pcl_name] = pcl_file"
   ]
  },
  {
   "cell_type": "code",
   "execution_count": 6,
   "metadata": {},
   "outputs": [],
   "source": [
    "if USE_BINARY_PCL:\n",
    "    process_directory(PCL_DIR, registerPointCloudFile, \".pcd\")\n",
    "else:\n",
    "    process_directory(PCL_DIR, registerPointCloudFile, \".txt\")"
   ]
  },
  {
   "cell_type": "code",
   "execution_count": null,
   "metadata": {},
   "outputs": [],
   "source": [
    "def generate_labeled_meshes(mesh_file):\n",
    "    file_name = get_file_name(mesh_file)\n",
    "    pcl_stem_file = file_name.lower() + \"_s\"\n",
    "    pcl_leaf_file = file_name.lower() + \"_l\"\n",
    "    if pcl_stem_file not in pcl_files or \\\n",
    "       pcl_leaf_file not in pcl_files:\n",
    "        print(\"No point cloud file found for mesh\", mesh_file)\n",
    "        return\n",
    "    \n",
    "    print(\"Processing \", mesh_file, \"...\", sep=\"\")\n",
    "    \n",
    "    # Load mesh and its labeled point cloud\n",
    "    mesh = pymesh.load_mesh(mesh_file)\n",
    "    \n",
    "    if USE_BINARY_PCL:\n",
    "        pcl_stem = pcl.io.PCDReader().read(pcl_files[pcl_stem_file])\n",
    "        pcl_leaf = pcl.io.PCDReader().read(pcl_files[pcl_leaf_file])\n",
    "    else:\n",
    "        pcl_stem = pd.read_csv(pcl_files[pcl_stem_file], sep=\",\", names=[\"x\", \"y\", \"z\"]).as_matrix()\n",
    "        pcl_leaf = pd.read_csv(pcl_files[pcl_leaf_file], sep=\",\", names=[\"x\", \"y\", \"z\"]).as_matrix()\n",
    "    \n",
    "    \n",
    "    # Create an array which gives the label of every vertex\n",
    "    # in the combined stem and leaf point clouds\n",
    "    labels = np.concatenate((np.full((pcl_stem.shape[0]), STEM),\n",
    "                             np.full((pcl_leaf.shape[0]), LEAF)))\n",
    "\n",
    "    # Concatenate the stem and leaf point clouds\n",
    "    points = np.concatenate((pcl_stem, pcl_leaf))\n",
    "    \n",
    "    # For every vertex, find the k nearest points in the point cloud\n",
    "    k = 3\n",
    "    knn = NearestNeighbors(n_neighbors=k, algorithm='ball_tree').fit(points)\n",
    "    distances, indices = knn.kneighbors(mesh.vertices)\n",
    "\n",
    "    # Create per-face labels\n",
    "    per_face_label = np.zeros(len(mesh.faces), dtype=np.int32)\n",
    "    for i in range(len(mesh.faces)):\n",
    "        votes = [0, 0]\n",
    "        # For every vertex in this triangle, count the labels\n",
    "        # of the k closest points in the point cloud\n",
    "        for label in labels[indices[mesh.faces[i]].flatten()]:\n",
    "            votes[label] += 1\n",
    "        per_face_label[i] = np.argmax(votes)\n",
    "    \n",
    "    if GENERATE_OBJS:\n",
    "        # Generate one mesh for each label\n",
    "        vertices = [[] for _ in range(2)]\n",
    "        faces    = [[] for _ in range(2)]\n",
    "        for i in range(len(mesh.faces)):\n",
    "            label = per_face_label[i]\n",
    "            offset = len(vertices[label])\n",
    "            vertices[label].extend(mesh.vertices[mesh.faces[i]])\n",
    "            faces[label].append([offset, offset+1, offset+2])\n",
    "\n",
    "        # Save meshes\n",
    "        output_dir = OUTPUT_DIR + mesh_file[mesh_file.find(os.sep):mesh_file.rfind(os.sep)]\n",
    "        if not os.path.isdir(output_dir): os.makedirs(output_dir)\n",
    "        \n",
    "        pymesh.save_mesh_raw(os.path.join(output_dir, file_name + \"_s.obj\"), np.array(vertices[0]), np.array(faces[0]), ascii=True)\n",
    "        print(\"Object file created \", os.path.join(output_dir, file_name + \"_l.obj\"), \"...\", sep=\"\")\n",
    "              \n",
    "        pymesh.save_mesh_raw(os.path.join(output_dir, file_name + \"_l.obj\"), np.array(vertices[1]), np.array(faces[1]), ascii=True)\n",
    "        print(\"Object file created \", os.path.join(output_dir, file_name + \"_s.obj\"), \"...\", sep=\"\")\n",
    "        \n",
    "    if GENERATE_LABELS:\n",
    "        # Save per-face labels to file\n",
    "        output_dir = OUTPUT_DIR + mesh_file[mesh_file.find(os.sep):mesh_file.rfind(os.sep)]\n",
    "        if not os.path.isdir(output_dir): os.makedirs(output_dir)\n",
    "        with open(os.path.join(output_dir, file_name + \"_labels.txt\"), \"w\") as f:\n",
    "            f.write(\"Plant_labelA\\n\")\n",
    "            for i in range(len(mesh.faces)):\n",
    "                if per_face_label[i] == STEM:\n",
    "                    f.write(str(i) + \" \")\n",
    "            f.write(\"\\n\\nPlant_labelB\\n\")\n",
    "            for i in range(len(mesh.faces)):\n",
    "                if per_face_label[i] == LEAF:\n",
    "                    f.write(str(i) + \" \")\n",
    "            f.write(\"\\n\")\n",
    "        print(\"Label file created \", os.path.join(output_dir, file_name + \"_labels.txt\"), \"...\", sep=\"\")\n",
    "            \n",
    "process_directory(MESHES_DIR, generate_labeled_meshes, \".obj\")"
   ]
  }
 ],
 "metadata": {
  "kernelspec": {
   "display_name": "Python 3",
   "language": "python",
   "name": "python3"
  },
  "language_info": {
   "codemirror_mode": {
    "name": "ipython",
    "version": 3
   },
   "file_extension": ".py",
   "mimetype": "text/x-python",
   "name": "python",
   "nbconvert_exporter": "python",
   "pygments_lexer": "ipython3",
   "version": "3.6.4"
  }
 },
 "nbformat": 4,
 "nbformat_minor": 2
}
