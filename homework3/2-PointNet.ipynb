{
 "cells": [
  {
   "cell_type": "code",
   "execution_count": 1,
   "metadata": {},
   "outputs": [
    {
     "name": "stderr",
     "output_type": "stream",
     "text": [
      "/home/marcus/anaconda3/lib/python3.6/site-packages/h5py/__init__.py:34: FutureWarning: Conversion of the second argument of issubdtype from `float` to `np.floating` is deprecated. In future, it will be treated as `np.float64 == np.dtype(float).type`.\n",
      "  from ._conv import register_converters as _register_converters\n"
     ]
    }
   ],
   "source": [
    "%matplotlib inline\n",
    "import matplotlib.pyplot as plt\n",
    "import numpy as np\n",
    "import pandas as pd\n",
    "import tensorflow as tf\n",
    "from pyntcloud import PyntCloud\n",
    "from modelnet import ModelNet, rotate, jitter\n",
    "import utils\n",
    "import time"
   ]
  },
  {
   "cell_type": "markdown",
   "metadata": {},
   "source": [
    "## Load ModelNet 40"
   ]
  },
  {
   "cell_type": "code",
   "execution_count": 2,
   "metadata": {
    "collapsed": true
   },
   "outputs": [],
   "source": [
    "# Load the ModelNet data loader\n",
    "modelnet = ModelNet(shuffle=True)"
   ]
  },
  {
   "cell_type": "markdown",
   "metadata": {},
   "source": [
    "## Define the network with tensorflow"
   ]
  },
  {
   "cell_type": "markdown",
   "metadata": {},
   "source": [
    "![PointNet](PointNet-Architecture.png)"
   ]
  },
  {
   "cell_type": "code",
   "execution_count": 3,
   "metadata": {
    "collapsed": true
   },
   "outputs": [],
   "source": [
    "# Point cloud placeholder -> [batch_size x num_points x 3]\n",
    "points = tf.placeholder(tf.float32, [None, modelnet.num_points, 3])\n",
    "labels = tf.placeholder(tf.float32, [None, modelnet.num_categories])\n",
    "\n",
    "def transformation_network(inputs, output_size, init_identity=False):\n",
    "    # Increase num features -> MLP(64, 128, 1024)\n",
    "    feat = tf.layers.conv1d(inputs, filters=64, kernel_size=1, strides=1)   # [batch_size x num_points x 64]\n",
    "    feat = tf.contrib.layers.batch_norm(feat)\n",
    "    feat = tf.layers.conv1d(feat, filters=128, kernel_size=1, strides=1)  # [batch_size x num_points x 128]\n",
    "    feat = tf.contrib.layers.batch_norm(feat)\n",
    "    feat = tf.layers.conv1d(feat, filters=1024, kernel_size=1, strides=1) # [batch_size x num_points x 1024]\n",
    "    feat = tf.contrib.layers.batch_norm(feat)\n",
    "\n",
    "    # Extract global features -> maxpool\n",
    "    feat = tf.reduce_max(feat, 1) # [batch_size x 1024]\n",
    "\n",
    "    # Generate predictions -> FC(512, 256, num_categories)\n",
    "    feat = tf.layers.dense(feat, units=512, activation=tf.nn.relu) # [batch_size x 512]\n",
    "    feat = tf.contrib.layers.batch_norm(feat)\n",
    "    feat = tf.layers.dense(feat, units=256, activation=tf.nn.relu) # [batch_size x 256]\n",
    "    feat = tf.contrib.layers.batch_norm(feat)\n",
    "    return tf.layers.dense(feat,\n",
    "                           units=output_size,\n",
    "                           activation=None,\n",
    "                           kernel_initializer=(tf.initializers.identity if init_identity else None)) # [batch_size x output_size]\n",
    "\n",
    "# Transform input\n",
    "transformation_matrix = tf.reshape(transformation_network(points, 3 * 3, init_identity=True), [-1, 3, 3])\n",
    "feat = tf.matmul(points, transformation_matrix)\n",
    "\n",
    "# Points to features -> MLP(64, 64)\n",
    "feat = tf.layers.conv1d(feat, filters=64, kernel_size=1, strides=1) # [batch_size x num_points x 64]\n",
    "feat = tf.contrib.layers.batch_norm(feat)\n",
    "feat = tf.layers.conv1d(feat, filters=64, kernel_size=1, strides=1)   # [batch_size x num_points x 64]\n",
    "feat = tf.contrib.layers.batch_norm(feat)\n",
    "\n",
    "# Transform features\n",
    "transformation_matrix = tf.reshape(transformation_network(feat, 64 * 64, init_identity=True), [-1, 64, 64])\n",
    "\n",
    "# Add Frobenious norm of feature transform matrix to loss\n",
    "Lreg = tf.reduce_sum(tf.norm(tf.eye(64) - tf.matmul(transformation_matrix, transformation_matrix, transpose_b=True), axis=[1, 2]))\n",
    "\n",
    "feat = tf.matmul(feat, transformation_matrix, )\n",
    "\n",
    "# Features to classification\n",
    "feat = transformation_network(feat, modelnet.num_categories)\n",
    "feat = tf.layers.dropout(feat, rate=0.3) # Dropout with keep rate 0.7 = 1.0 - 0.3\n",
    "\n",
    "# Cross entropy softmax loss\n",
    "loss = tf.reduce_mean(tf.nn.softmax_cross_entropy_with_logits_v2(logits=feat, labels=labels)) + Lreg * 0.001\n",
    "\n",
    "# Get predicted classes\n",
    "predictions = tf.argmax(tf.nn.softmax(feat), axis=1)\n",
    "\n",
    "# Calculate accuracy\n",
    "correct_labels = tf.equal(predictions, tf.argmax(labels, axis=1))\n",
    "accuracy = tf.reduce_mean(tf.cast(correct_labels, tf.float32))"
   ]
  },
  {
   "cell_type": "code",
   "execution_count": null,
   "metadata": {
    "collapsed": true
   },
   "outputs": [],
   "source": [
    "# Placeholder for learning rate (used in training loop)\n",
    "learning_rate = tf.placeholder(tf.float32, [], name=\"learning_rate\")\n",
    "\n",
    "# Initialize AdamOptimizer\n",
    "optim = tf.train.AdamOptimizer(learning_rate=learning_rate).minimize(loss)\n",
    "\n",
    "# Create session\n",
    "config = tf.ConfigProto(device_count = {'GPU': 0}) # Force CPU\n",
    "sess = tf.InteractiveSession(config=config)\n",
    "tf.global_variables_initializer().run()"
   ]
  },
  {
   "cell_type": "markdown",
   "metadata": {},
   "source": [
    "### Training loop"
   ]
  },
  {
   "cell_type": "code",
   "execution_count": null,
   "metadata": {},
   "outputs": [
    {
     "data": {
      "application/vnd.jupyter.widget-view+json": {
       "model_id": "fffa3203260c421e9ada6775dc5740ac",
       "version_major": 2,
       "version_minor": 0
      },
      "text/plain": [
       "A Jupyter Widget"
      ]
     },
     "metadata": {},
     "output_type": "display_data"
    }
   ],
   "source": [
    "from ipywidgets import Label, Box\n",
    "from IPython.display import display\n",
    "\n",
    "label = Label(\"\")\n",
    "display(Box([label]))\n",
    "\n",
    "# Make batches to train\n",
    "batch_size = 64\n",
    "current_epoch = 122\n",
    "current_learning_rate = 0.001\n",
    "current_loss = float(\"nan\")\n",
    "current_test_accuracy = float(\"nan\")\n",
    "num_iter = 0\n",
    "start_time = time.time()\n",
    "epoch_time = 0\n",
    "\n",
    "# Try to load model file if epoch is specified\n",
    "if current_epoch != 0:\n",
    "    saver = tf.train.import_meta_graph(\"models/PointNet_Vanilla-%i.meta\" % current_epoch)\n",
    "    saver.restore(sess, tf.train.latest_checkpoint(\"./models\"))\n",
    "    current_learning_rate /= np.power(2, current_epoch // 20)\n",
    "else:\n",
    "    saver = tf.train.Saver()\n",
    "\n",
    "while True:\n",
    "    # If epoch of training data is complete\n",
    "    if modelnet.train.is_epoch_complete():\n",
    "        # Measure time\n",
    "        epoch_time = time.time() - start_time\n",
    "        start_time = time.time()\n",
    "        \n",
    "        # Increase epoch count\n",
    "        current_epoch += 1\n",
    "        current_loss /= num_iter\n",
    "        num_iter = 0\n",
    "        \n",
    "        # Every 20th epoch, halve the learning rate\n",
    "        # and calculate accuracy on the test set\n",
    "        if current_epoch % 20 == 0:\n",
    "            # Save the model\n",
    "            saver.save(sess, \"models/PointNet_Vanilla\", global_step=current_epoch)\n",
    "            \n",
    "            # Halve the learning rate\n",
    "            current_learning_rate /= 2.0\n",
    "            \n",
    "            # Calculate accuracy on test set\n",
    "            acc_values = []\n",
    "            while True:\n",
    "                batch_points, batch_labels = modelnet.test.next_batch(batch_size)\n",
    "                complete = modelnet.test.is_epoch_complete()\n",
    "                if complete:\n",
    "                    batch_points = batch_points[:-modelnet.test._index_in_epoch]\n",
    "                    batch_labels = batch_labels[:-modelnet.test._index_in_epoch]\n",
    "                acc_values.append(sess.run([accuracy], feed_dict={points: batch_points, labels: batch_labels}))\n",
    "                if complete:\n",
    "                    break\n",
    "            current_test_accuracy = np.mean(acc_values)\n",
    "            \n",
    "        # Display training status\n",
    "        label.value = \"Epoch %i; Time: %im %is; Loss: %f; Learning rate: %f; Test accuracy: %f\" % \\\n",
    "                      (current_epoch, epoch_time // 60, epoch_time % 60, current_loss, current_learning_rate, current_test_accuracy)\n",
    "    \n",
    "    # Get next batch\n",
    "    batch_points, batch_labels = modelnet.train.next_batch(batch_size)\n",
    "    \n",
    "    # Rotate 10% of the time\n",
    "    if np.random.rand() < 0.1:\n",
    "        batch_points = rotate(batch_points, np.pi * np.random.choice([1.0 / 2.0, 1.0, 3.0 / 2.0])) # np.random.uniform(-0.01, 0.01))\n",
    "    \n",
    "    # Jitter 25% of the time\n",
    "    if np.random.rand() < 0.25:\n",
    "        batch_points = jitter(batch_points, 0.0, 0.02)\n",
    "    \n",
    "    # Do training\n",
    "    current_loss += sess.run([optim, loss], feed_dict={learning_rate: current_learning_rate,\n",
    "                                                       points: batch_points,\n",
    "                                                       labels: batch_labels})[1]\n",
    "    num_iter += 1"
   ]
  },
  {
   "cell_type": "markdown",
   "metadata": {},
   "source": [
    "#### Best result\n",
    "---"
   ]
  },
  {
   "cell_type": "markdown",
   "metadata": {},
   "source": [
    "### Loss graph"
   ]
  },
  {
   "cell_type": "code",
   "execution_count": 9,
   "metadata": {},
   "outputs": [
    {
     "data": {
      "image/png": "[encoded data removed]",
      "text/plain": [
       "<matplotlib.figure.Figure at 0x7f71ac05f940>"
      ]
     },
     "metadata": {},
     "output_type": "display_data"
    }
   ],
   "source": [
    "plt.plot(loss_values)\n",
    "plt.show()"
   ]
  }
 ],
 "metadata": {
  "kernelspec": {
   "display_name": "Python 3",
   "language": "python",
   "name": "python3"
  }
 },
 "nbformat": 4,
 "nbformat_minor": 2
}
