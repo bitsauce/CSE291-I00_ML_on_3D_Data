{
 "cells": [
  {
   "cell_type": "code",
   "execution_count": 1,
   "metadata": {},
   "outputs": [
    {
     "name": "stderr",
     "output_type": "stream",
     "text": [
      "/home/marcus/anaconda3/lib/python3.6/site-packages/h5py/__init__.py:34: FutureWarning: Conversion of the second argument of issubdtype from `float` to `np.floating` is deprecated. In future, it will be treated as `np.float64 == np.dtype(float).type`.\n",
      "  from ._conv import register_converters as _register_converters\n"
     ]
    }
   ],
   "source": [
    "%matplotlib inline\n",
    "import matplotlib.pyplot as plt\n",
    "import numpy as np\n",
    "import pandas as pd\n",
    "import tensorflow as tf\n",
    "from pyntcloud import PyntCloud\n",
    "from modelnet import ModelNet, rotate, jitter\n",
    "import utils\n",
    "import time"
   ]
  },
  {
   "cell_type": "markdown",
   "metadata": {},
   "source": [
    "## Load ModelNet 40"
   ]
  },
  {
   "cell_type": "code",
   "execution_count": 2,
   "metadata": {
    "collapsed": true
   },
   "outputs": [],
   "source": [
    "# Load the ModelNet data loader\n",
    "modelnet = ModelNet(shuffle=True)"
   ]
  },
  {
   "cell_type": "markdown",
   "metadata": {},
   "source": [
    "## Visualize some point clouds"
   ]
  },
  {
   "cell_type": "code",
   "execution_count": 3,
   "metadata": {
    "scrolled": false
   },
   "outputs": [
    {
     "name": "stdout",
     "output_type": "stream",
     "text": [
      "Category: door\n"
     ]
    },
    {
     "data": {
      "text/html": [
       "\n",
       "        <iframe\n",
       "            width=\"800\"\n",
       "            height=\"500\"\n",
       "            src=\"pyntcloud_plot.html\"\n",
       "            frameborder=\"0\"\n",
       "            allowfullscreen\n",
       "        ></iframe>\n",
       "        "
      ],
      "text/plain": [
       "<IPython.lib.display.IFrame at 0x7fa6d500df98>"
      ]
     },
     "execution_count": 3,
     "metadata": {},
     "output_type": "execute_result"
    }
   ],
   "source": [
    "# Display a random point cloud from the training data\n",
    "index = np.random.randint(modelnet.train.num_examples)\n",
    "\n",
    "# Print categry name\n",
    "print(\"Category:\", modelnet.categories[np.argmax(modelnet.train._labels[index])])\n",
    "\n",
    "# Show xyz axis\n",
    "axis = [\n",
    "    [[0, 0, 0], [1, 0, 0]],\n",
    "    [[0, 0, 0], [0, 1, 0]],\n",
    "    [[0, 0, 0], [0, 0, 1]],\n",
    "]\n",
    "\n",
    "# Show point cloud\n",
    "PyntCloud(pd.DataFrame(modelnet.train._points[index], columns=[\"x\", \"y\", \"z\"])).plot(point_size=0.01, opacity=1.0, lines=axis, line_color=[0xFF0000, 0x00FF00, 0x0000FF])"
   ]
  },
  {
   "cell_type": "markdown",
   "metadata": {},
   "source": [
    "### Rotate 90 degrees"
   ]
  },
  {
   "cell_type": "code",
   "execution_count": 4,
   "metadata": {},
   "outputs": [
    {
     "data": {
      "text/html": [
       "\n",
       "        <iframe\n",
       "            width=\"800\"\n",
       "            height=\"500\"\n",
       "            src=\"pyntcloud_plot.html\"\n",
       "            frameborder=\"0\"\n",
       "            allowfullscreen\n",
       "        ></iframe>\n",
       "        "
      ],
      "text/plain": [
       "<IPython.lib.display.IFrame at 0x7fa6d500d5f8>"
      ]
     },
     "execution_count": 4,
     "metadata": {},
     "output_type": "execute_result"
    }
   ],
   "source": [
    "PyntCloud(pd.DataFrame(np.squeeze(rotate(modelnet.train._points[index], np.pi/2.0), axis=0), columns=[\"x\", \"y\", \"z\"])).plot(point_size=0.01, opacity=1.0, lines=axis, line_color=[0xFF0000, 0x00FF00, 0x0000FF])"
   ]
  },
  {
   "cell_type": "markdown",
   "metadata": {},
   "source": [
    "### Jitter the points"
   ]
  },
  {
   "cell_type": "code",
   "execution_count": 5,
   "metadata": {
    "scrolled": false
   },
   "outputs": [
    {
     "data": {
      "text/html": [
       "\n",
       "        <iframe\n",
       "            width=\"800\"\n",
       "            height=\"500\"\n",
       "            src=\"pyntcloud_plot.html\"\n",
       "            frameborder=\"0\"\n",
       "            allowfullscreen\n",
       "        ></iframe>\n",
       "        "
      ],
      "text/plain": [
       "<IPython.lib.display.IFrame at 0x7fa75c3097f0>"
      ]
     },
     "execution_count": 5,
     "metadata": {},
     "output_type": "execute_result"
    }
   ],
   "source": [
    "PyntCloud(pd.DataFrame(jitter(modelnet.train._points[index], 0.0, 0.02), columns=[\"x\", \"y\", \"z\"])).plot(point_size=0.01, opacity=1.0, lines=axis, line_color=[0xFF0000, 0x00FF00, 0x0000FF])"
   ]
  },
  {
   "cell_type": "markdown",
   "metadata": {},
   "source": [
    "## Define the network with tensorflow"
   ]
  },
  {
   "cell_type": "markdown",
   "metadata": {},
   "source": [
    "![PointNet](PointNet-Architecture.png)"
   ]
  },
  {
   "cell_type": "code",
   "execution_count": 6,
   "metadata": {
    "collapsed": true
   },
   "outputs": [],
   "source": [
    "# Point cloud placeholder -> [batch_size x num_points x 3]\n",
    "points = tf.placeholder(tf.float32, [None, modelnet.num_points, 3])\n",
    "labels = tf.placeholder(tf.float32, [None, modelnet.num_categories])\n",
    "\n",
    "# Points to features -> MLP(64, 64)\n",
    "feat = tf.layers.conv1d(points, filters=64, kernel_size=1, strides=1) # [batch_size x num_points x 64]\n",
    "feat = tf.contrib.layers.batch_norm(feat)\n",
    "feat = tf.layers.conv1d(feat, filters=64, kernel_size=1, strides=1)   # [batch_size x num_points x 64]\n",
    "feat = tf.contrib.layers.batch_norm(feat)\n",
    "\n",
    "# Increase num features -> MLP(64, 128, 1024)\n",
    "feat = tf.layers.conv1d(feat, filters=64, kernel_size=1, strides=1)   # [batch_size x num_points x 64]\n",
    "feat = tf.contrib.layers.batch_norm(feat)\n",
    "feat = tf.layers.conv1d(feat, filters=128, kernel_size=1, strides=1)  # [batch_size x num_points x 128]\n",
    "feat = tf.contrib.layers.batch_norm(feat)\n",
    "feat = tf.layers.conv1d(feat, filters=1024, kernel_size=1, strides=1) # [batch_size x num_points x 1024]\n",
    "feat = tf.contrib.layers.batch_norm(feat)\n",
    "\n",
    "# Extract global features -> maxpool\n",
    "feat = tf.reduce_max(feat, 1) # [batch_size x 1024]\n",
    "\n",
    "# Generate predictions -> FC(512, 256, num_categories)\n",
    "feat = tf.layers.dense(feat, units=512, activation=tf.nn.relu) # [batch_size x 512]\n",
    "feat = tf.contrib.layers.batch_norm(feat)\n",
    "feat = tf.layers.dense(feat, units=256, activation=tf.nn.relu) # [batch_size x 256]\n",
    "feat = tf.contrib.layers.batch_norm(feat)\n",
    "feat = tf.layers.dense(feat, units=modelnet.num_categories, activation=None) # [batch_size x num_categories]\n",
    "feat = tf.layers.dropout(feat, rate=0.3) # Dropout with keep rate 0.7 = 1.0 - 0.3\n",
    "\n",
    "# Cross entropy softmax loss\n",
    "loss = tf.reduce_mean(tf.nn.softmax_cross_entropy_with_logits_v2(logits=feat, labels=labels))\n",
    "\n",
    "# Get predicted classes\n",
    "predictions = tf.argmax(tf.nn.softmax(feat), axis=1)\n",
    "\n",
    "# Calculate accuracy\n",
    "correct_labels = tf.equal(predictions, tf.argmax(labels, axis=1))\n",
    "accuracy = tf.reduce_mean(tf.cast(correct_labels, tf.float32))"
   ]
  },
  {
   "cell_type": "code",
   "execution_count": null,
   "metadata": {
    "collapsed": true
   },
   "outputs": [],
   "source": [
    "# Placeholder for learning rate (used in training loop)\n",
    "learning_rate = tf.placeholder(tf.float32, [], name=\"learning_rate\")\n",
    "\n",
    "# Initialize AdamOptimizer\n",
    "optim = tf.train.AdamOptimizer(learning_rate=learning_rate).minimize(loss)\n",
    "\n",
    "# Create session\n",
    "sess = tf.InteractiveSession()\n",
    "tf.global_variables_initializer().run()"
   ]
  },
  {
   "cell_type": "markdown",
   "metadata": {},
   "source": [
    "### Training loop"
   ]
  },
  {
   "cell_type": "code",
   "execution_count": null,
   "metadata": {},
   "outputs": [
    {
     "data": {
      "application/vnd.jupyter.widget-view+json": {
       "model_id": "bd5d67a1d9724f2981d3dc4af77c3091",
       "version_major": 2,
       "version_minor": 0
      },
      "text/plain": [
       "A Jupyter Widget"
      ]
     },
     "metadata": {},
     "output_type": "display_data"
    },
    {
     "name": "stdout",
     "output_type": "stream",
     "text": [
      "INFO:tensorflow:Restoring parameters from ./models/PointNet_Vanilla-122\n"
     ]
    }
   ],
   "source": [
    "from ipywidgets import Label, Box\n",
    "from IPython.display import display\n",
    "\n",
    "label = Label(\"\")\n",
    "display(Box([label]))\n",
    "\n",
    "# Make batches to train\n",
    "batch_size = 64\n",
    "current_epoch = 122\n",
    "current_learning_rate = 0.001\n",
    "current_loss = float(\"nan\")\n",
    "current_test_accuracy = float(\"nan\")\n",
    "num_iter = 0\n",
    "start_time = time.time()\n",
    "epoch_time = 0\n",
    "\n",
    "# Try to load model file if epoch is specified\n",
    "if current_epoch != 0:\n",
    "    saver = tf.train.import_meta_graph(\"models/PointNet_Vanilla-%i.meta\" % current_epoch)\n",
    "    saver.restore(sess, tf.train.latest_checkpoint(\"./models\"))\n",
    "    current_learning_rate /= np.power(2, current_epoch // 20)\n",
    "else:\n",
    "    saver = tf.train.Saver()\n",
    "\n",
    "while True:\n",
    "    # If epoch of training data is complete\n",
    "    if modelnet.train.is_epoch_complete():\n",
    "        # Measure time\n",
    "        epoch_time = time.time() - start_time\n",
    "        start_time = time.time()\n",
    "        \n",
    "        # Increase epoch count\n",
    "        current_epoch += 1\n",
    "        current_loss /= num_iter\n",
    "        num_iter = 0\n",
    "        \n",
    "        # Every 20th epoch, halve the learning rate\n",
    "        # and calculate accuracy on the test set\n",
    "        if current_epoch % 20 == 0:\n",
    "            # Save the model\n",
    "            saver.save(sess, \"models/PointNet_Vanilla\", global_step=current_epoch)\n",
    "            \n",
    "            # Halve the learning rate\n",
    "            current_learning_rate /= 2.0\n",
    "            \n",
    "            # Calculate accuracy on test set\n",
    "            acc_values = []\n",
    "            while True:\n",
    "                batch_points, batch_labels = modelnet.test.next_batch(batch_size)\n",
    "                complete = modelnet.test.is_epoch_complete()\n",
    "                if complete:\n",
    "                    batch_points = batch_points[:-modelnet.test._index_in_epoch]\n",
    "                    batch_labels = batch_labels[:-modelnet.test._index_in_epoch]\n",
    "                acc_values.append(sess.run([accuracy], feed_dict={points: batch_points, labels: batch_labels}))\n",
    "                if complete:\n",
    "                    break\n",
    "            current_test_accuracy = np.mean(acc_values)\n",
    "            \n",
    "        # Display training status\n",
    "        label.value = \"Epoch %i; Time: %im %is; Loss: %f; Learning rate: %f; Test accuracy: %f\" % \\\n",
    "                      (current_epoch, epoch_time // 60, epoch_time % 60, current_loss, current_learning_rate, current_test_accuracy)\n",
    "    \n",
    "    # Get next batch\n",
    "    batch_points, batch_labels = modelnet.train.next_batch(batch_size)\n",
    "    \n",
    "    # Rotate 10% of the time\n",
    "    if np.random.rand() < 0.1:\n",
    "        batch_points = rotate(batch_points, np.pi * np.random.choice([1.0 / 2.0, 1.0, 3.0 / 2.0])) # np.random.uniform(-0.01, 0.01))\n",
    "    \n",
    "    # Jitter 25% of the time\n",
    "    if np.random.rand() < 0.25:\n",
    "        batch_points = jitter(batch_points, 0.0, 0.02)\n",
    "    \n",
    "    # Do training\n",
    "    current_loss += sess.run([optim, loss], feed_dict={learning_rate: current_learning_rate,\n",
    "                                                       points: batch_points,\n",
    "                                                       labels: batch_labels})[1]\n",
    "    num_iter += 1"
   ]
  },
  {
   "cell_type": "markdown",
   "metadata": {},
   "source": [
    "#### Best result\n",
    "Epoch 122; Time: 0m 47s; Loss: 0.270949; Learning rate: 0.000016; Test accuracy: 0.827111"
   ]
  },
  {
   "cell_type": "markdown",
   "metadata": {},
   "source": [
    "### Loss graph"
   ]
  },
  {
   "cell_type": "code",
   "execution_count": 13,
   "metadata": {},
   "outputs": [
    {
     "data": {
      "image/png": "[encoded data removed]",
      "text/plain": [
       "<matplotlib.figure.Figure at 0x7fa6c61236a0>"
      ]
     },
     "metadata": {},
     "output_type": "display_data"
    }
   ],
   "source": [
    "plt.plot(loss_values)\n",
    "plt.show()"
   ]
  }
 ],
 "metadata": {
  "kernelspec": {
   "display_name": "Python 3",
   "language": "python",
   "name": "python3"
  }
 },
 "nbformat": 4,
 "nbformat_minor": 2
}
