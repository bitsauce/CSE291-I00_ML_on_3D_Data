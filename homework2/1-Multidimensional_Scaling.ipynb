{
 "cells": [
  {
   "cell_type": "code",
   "execution_count": 1,
   "metadata": {},
   "outputs": [
    {
     "name": "stderr",
     "output_type": "stream",
     "text": [
      "C:\\Anaconda3\\lib\\site-packages\\h5py\\__init__.py:34: FutureWarning: Conversion of the second argument of issubdtype from `float` to `np.floating` is deprecated. In future, it will be treated as `np.float64 == np.dtype(float).type`.\n",
      "  from ._conv import register_converters as _register_converters\n"
     ]
    }
   ],
   "source": [
    "# Importing libraries\n",
    "%matplotlib inline\n",
    "import matplotlib.pyplot as plt\n",
    "import tensorflow as tf\n",
    "import numpy as np\n",
    "from tensorflow.examples.tutorials.mnist import input_data\n",
    "from scipy.spatial import distance_matrix\n",
    "from ipywidgets import FloatProgress\n",
    "from IPython.display import display"
   ]
  },
  {
   "cell_type": "code",
   "execution_count": 2,
   "metadata": {},
   "outputs": [
    {
     "name": "stdout",
     "output_type": "stream",
     "text": [
      "Extracting MNIST/train-images-idx3-ubyte.gz\n",
      "Extracting MNIST/train-labels-idx1-ubyte.gz\n",
      "Extracting MNIST/t10k-images-idx3-ubyte.gz\n",
      "Extracting MNIST/t10k-labels-idx1-ubyte.gz\n"
     ]
    }
   ],
   "source": [
    "# Read data\n",
    "data = input_data.read_data_sets(\"MNIST/\", one_hot=True)"
   ]
  },
  {
   "cell_type": "code",
   "execution_count": 3,
   "metadata": {
    "collapsed": true
   },
   "outputs": [],
   "source": [
    "samples = [[] for i in range(10)]\n",
    "for image, label in zip(data.train.images, data.train.labels):\n",
    "    label = np.argmax(label)\n",
    "    if len(samples[label]) < 1000:\n",
    "        samples[label].append(image)# / 255)\n",
    "samples = [image for s in samples for image in s] # flatten"
   ]
  },
  {
   "cell_type": "code",
   "execution_count": null,
   "metadata": {
    "collapsed": true
   },
   "outputs": [],
   "source": [
    "# Calculate distances between all samples\n",
    "N = len(samples)\n",
    "D_matrix = distance_matrix(samples, samples)\n",
    "D_matrix = np.power(D_matrix, 2) # calculating the differences of square distances instead"
   ]
  },
  {
   "cell_type": "code",
   "execution_count": null,
   "metadata": {
    "collapsed": true
   },
   "outputs": [],
   "source": [
    "tf.reset_default_graph()\n",
    "\n",
    "# Placeholder for distance matrix\n",
    "D = tf.placeholder(tf.float32, [N, N])\n",
    "\n",
    "# Variable X' -> [10000, 2]\n",
    "X_prime = tf.get_variable(\"X\", initializer=tf.random_normal((N, 2), stddev=1.0))\n",
    "\n",
    "# Calculate D' -> [10000, 10000]\n",
    "# Source: https://stackoverflow.com/questions/37009647/compute-pairwise-distance-in-a-batch-without-replicating-tensor-in-tensorflow\n",
    "X_prime_a = tf.expand_dims(X_prime, 1) # [10000, 1, 2]\n",
    "X_prime_b = tf.expand_dims(X_prime, 0) # [1, 10000, 2]\n",
    "D_prime = tf.reduce_sum(tf.squared_difference(X_prime_a, X_prime_b), 2)\n",
    "\n",
    "# Loss function\n",
    "loss = tf.reduce_sum(tf.matrix_band_part(tf.pow(D_prime - D, 2), 0, -1))"
   ]
  },
  {
   "cell_type": "code",
   "execution_count": null,
   "metadata": {
    "collapsed": true
   },
   "outputs": [],
   "source": [
    "sess = tf.InteractiveSession()\n",
    "tf.global_variables_initializer().run()\n",
    "X = sess.run(X_prime)"
   ]
  },
  {
   "cell_type": "code",
   "execution_count": null,
   "metadata": {
    "scrolled": true
   },
   "outputs": [],
   "source": [
    "x = [x[0] for x in X]\n",
    "y = [x[1] for x in X]\n",
    "colors = [c for c in [\"C0\", \"C1\", \"C2\", \"C3\", \"C4\", \"C5\", \"C6\", \"C7\", \"C8\", \"C9\"] for i in range(1000)]\n",
    "\n",
    "plt.figure(figsize=(5, 5))\n",
    "plt.scatter(x, y, s=10.0, c=colors, alpha=0.75)\n",
    "plt.show()"
   ]
  },
  {
   "cell_type": "code",
   "execution_count": null,
   "metadata": {
    "collapsed": true
   },
   "outputs": [],
   "source": [
    "# Define optimizer\n",
    "optim = tf.train.AdamOptimizer(learning_rate=0.1).minimize(loss)\n",
    "tf.global_variables_initializer().run()"
   ]
  },
  {
   "cell_type": "code",
   "execution_count": null,
   "metadata": {},
   "outputs": [],
   "source": [
    "# Minimize the loss\n",
    "num_iter = 100\n",
    "loss_values = []\n",
    "progress = FloatProgress(min=0, max=num_iter); display(progress)\n",
    "for i in range(num_iter):\n",
    "    progress.description = \"Epoch %i/%i\" % (i, num_iter)\n",
    "    _, l, X = sess.run([optim, loss, X_prime], feed_dict = { D: D_matrix })\n",
    "    loss_values.append(l)\n",
    "    progress.value += 1"
   ]
  },
  {
   "cell_type": "code",
   "execution_count": null,
   "metadata": {
    "collapsed": true
   },
   "outputs": [],
   "source": [
    "plt.plot(loss_values)\n",
    "plt.show()"
   ]
  },
  {
   "cell_type": "code",
   "execution_count": null,
   "metadata": {
    "collapsed": true
   },
   "outputs": [],
   "source": [
    "x = [x[0] for x in X]\n",
    "y = [x[1] for x in X]\n",
    "\n",
    "plt.figure(figsize=(5, 5))\n",
    "plt.scatter(x, y, s=10.0, c=colors)\n",
    "plt.show()"
   ]
  }
 ],
 "metadata": {
  "kernelspec": {
   "display_name": "Python 3",
   "language": "python",
   "name": "python3"
  },
  "language_info": {
   "codemirror_mode": {
    "name": "ipython",
    "version": 3
   },
   "file_extension": ".py",
   "mimetype": "text/x-python",
   "name": "python",
   "nbconvert_exporter": "python",
   "pygments_lexer": "ipython3",
   "version": "3.6.2"
  },
  "widgets": {
   "state": {
    "dc3f9958c7fc4e128e073e6d736d8626": {
     "views": [
      {
       "cell_index": 7
      }
     ]
    }
   },
   "version": "1.2.0"
  }
 },
 "nbformat": 4,
 "nbformat_minor": 2
}
