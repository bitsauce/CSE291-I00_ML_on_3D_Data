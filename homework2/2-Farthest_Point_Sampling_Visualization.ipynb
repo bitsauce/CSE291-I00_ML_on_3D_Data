{
 "cells": [
  {
   "cell_type": "code",
   "execution_count": 1,
   "metadata": {
    "collapsed": true
   },
   "outputs": [],
   "source": [
    "import pickle\n",
    "from pyntcloud import PyntCloud\n",
    "import numpy as np\n",
    "import pandas as pd\n",
    "\n",
    "def load_object(filename):\n",
    "    with open(filename, \"rb\") as f:\n",
    "        return pickle.load(f)"
   ]
  },
  {
   "cell_type": "code",
   "execution_count": 2,
   "metadata": {},
   "outputs": [
    {
     "data": {
      "text/html": [
       "\n",
       "        <iframe\n",
       "            width=\"800\"\n",
       "            height=\"500\"\n",
       "            src=\"pyntcloud_plot.html\"\n",
       "            frameborder=\"0\"\n",
       "            allowfullscreen\n",
       "        ></iframe>\n",
       "        "
      ],
      "text/plain": [
       "<IPython.lib.display.IFrame at 0x7f3e20460588>"
      ]
     },
     "execution_count": 2,
     "metadata": {},
     "output_type": "execute_result"
    }
   ],
   "source": [
    "# Load and display pickled point cloud of teapot\n",
    "point_cloud = np.array(load_object(\"teapot.cloud\"))\n",
    "\n",
    "# Setup point cloud visualization\n",
    "points = pd.DataFrame(point_cloud, columns=[\"x\", \"y\", \"z\"])\n",
    "colors = np.full((point_cloud.shape[0], 3), (255, 255, 255), dtype=np.uint8)\n",
    "points[[\"red\", \"blue\", \"green\"]] = pd.DataFrame(colors, index=points.index)\n",
    "\n",
    "# Show point cloud\n",
    "cloud = PyntCloud(points)\n",
    "cloud.plot(point_size=1.0, opacity=1.0, lines=[], line_color=[])"
   ]
  },
  {
   "cell_type": "code",
   "execution_count": 3,
   "metadata": {},
   "outputs": [
    {
     "data": {
      "text/html": [
       "\n",
       "        <iframe\n",
       "            width=\"800\"\n",
       "            height=\"500\"\n",
       "            src=\"pyntcloud_plot.html\"\n",
       "            frameborder=\"0\"\n",
       "            allowfullscreen\n",
       "        ></iframe>\n",
       "        "
      ],
      "text/plain": [
       "<IPython.lib.display.IFrame at 0x7f3e65334080>"
      ]
     },
     "execution_count": 3,
     "metadata": {},
     "output_type": "execute_result"
    }
   ],
   "source": [
    "# Load and display pickled point cloud of violin case\n",
    "point_cloud = np.array(load_object(\"violin_case.cloud\"))\n",
    "\n",
    "# Setup point cloud visualization\n",
    "points = pd.DataFrame(point_cloud, columns=[\"x\", \"y\", \"z\"])\n",
    "colors = np.full((point_cloud.shape[0], 3), (255, 255, 255), dtype=np.uint8)\n",
    "points[[\"red\", \"blue\", \"green\"]] = pd.DataFrame(colors, index=points.index)\n",
    "\n",
    "# Show point cloud\n",
    "cloud = PyntCloud(points)\n",
    "cloud.plot(point_size=0.01, opacity=1.0, lines=[], line_color=[])"
   ]
  },
  {
   "cell_type": "code",
   "execution_count": 4,
   "metadata": {},
   "outputs": [
    {
     "data": {
      "image/png": "[encoded data removed]",
      "text/plain": [
       "<matplotlib.figure.Figure at 0x7f3e581ff198>"
      ]
     },
     "metadata": {},
     "output_type": "display_data"
    }
   ],
   "source": [
    "import matplotlib.pyplot as plt\n",
    "import matplotlib.image as mpimg\n",
    "\n",
    "# Plot screenshot for pdf-file\n",
    "plt.imshow(mpimg.imread(\"teapot.png\"))\n",
    "plt.show()"
   ]
  },
  {
   "cell_type": "code",
   "execution_count": 5,
   "metadata": {},
   "outputs": [
    {
     "data": {
      "image/png": "[encoded data removed]",
      "text/plain": [
       "<matplotlib.figure.Figure at 0x7f3e2e594278>"
      ]
     },
     "metadata": {},
     "output_type": "display_data"
    }
   ],
   "source": [
    "plt.imshow(mpimg.imread(\"violin_case.png\"))\n",
    "plt.show()"
   ]
  }
 ],
 "metadata": {
  "kernelspec": {
   "display_name": "Python 3",
   "language": "python",
   "name": "python3"
  },
  "language_info": {
   "codemirror_mode": {
    "name": "ipython",
    "version": 3
   },
   "file_extension": ".py",
   "mimetype": "text/x-python",
   "name": "python",
   "nbconvert_exporter": "python",
   "pygments_lexer": "ipython3",
   "version": "3.6.4"
  }
 },
 "nbformat": 4,
 "nbformat_minor": 2
}
