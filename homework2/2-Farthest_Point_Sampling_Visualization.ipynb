{
 "cells": [
  {
   "cell_type": "code",
   "execution_count": 4,
   "metadata": {
    "collapsed": true
   },
   "outputs": [],
   "source": [
    "import pickle\n",
    "from pyntcloud import PyntCloud\n",
    "import numpy as np\n",
    "import pandas as pd"
   ]
  },
  {
   "cell_type": "code",
   "execution_count": 6,
   "metadata": {},
   "outputs": [
    {
     "data": {
      "text/html": [
       "\n",
       "        <iframe\n",
       "            width=\"800\"\n",
       "            height=\"500\"\n",
       "            src=\"pyntcloud_plot.html\"\n",
       "            frameborder=\"0\"\n",
       "            allowfullscreen\n",
       "        ></iframe>\n",
       "        "
      ],
      "text/plain": [
       "<IPython.lib.display.IFrame at 0x7f14de3a5860>"
      ]
     },
     "execution_count": 6,
     "metadata": {},
     "output_type": "execute_result"
    }
   ],
   "source": [
    "def load_object(filename):\n",
    "    with open(filename, 'rb') as f:\n",
    "        return pickle.load(f)\n",
    "\n",
    "# Load pickled point cloud\n",
    "object_name = \"teapot\" # \"violin_case\"\n",
    "point_cloud = np.array(load_object(\"%s.cloud\" % object_name))\n",
    "\n",
    "# Setup point cloud visualization\n",
    "points = pd.DataFrame(point_cloud, columns=['x', 'y', 'z'])\n",
    "colors = np.full((point_cloud.shape[0], 3), (255, 255, 255), dtype=np.uint8)\n",
    "points[['red', 'blue', 'green']] = pd.DataFrame(colors, index=points.index)\n",
    "\n",
    "# Show point cloud\n",
    "cloud = PyntCloud(points)\n",
    "cloud.plot(point_size=0.05, opacity=1.0, lines=[], line_color=[])"
   ]
  }
 ],
 "metadata": {
  "kernelspec": {
   "display_name": "Python 3",
   "language": "python",
   "name": "python3"
  },
  "language_info": {
   "codemirror_mode": {
    "name": "ipython",
    "version": 3
   },
   "file_extension": ".py",
   "mimetype": "text/x-python",
   "name": "python",
   "nbconvert_exporter": "python",
   "pygments_lexer": "ipython3",
   "version": "3.6.4"
  }
 },
 "nbformat": 4,
 "nbformat_minor": 2
}
