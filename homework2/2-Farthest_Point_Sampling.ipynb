{
 "cells": [
  {
   "cell_type": "code",
   "execution_count": 1,
   "metadata": {
    "collapsed": true
   },
   "outputs": [],
   "source": [
    "import pymesh\n",
    "object_name = \"violin_case\" # object_name = \"teapot\"\n",
    "mesh = pymesh.load_mesh(\"%s.obj\" % object_name)"
   ]
  },
  {
   "cell_type": "code",
   "execution_count": 2,
   "metadata": {
    "collapsed": true
   },
   "outputs": [],
   "source": [
    "import numpy as np\n",
    "\n",
    "# A = |AB x AC|/2 (half of cross product)\n",
    "def triangle_area(v0, v1, v2):\n",
    "    return np.linalg.norm(\n",
    "        np.cross(np.array(v1) - np.array(v0),\n",
    "                 np.array(v2) - np.array(v0))\n",
    "        ) * 0.5"
   ]
  },
  {
   "cell_type": "code",
   "execution_count": 3,
   "metadata": {
    "collapsed": true
   },
   "outputs": [],
   "source": [
    "# Calculate surface area of mesh\n",
    "total_area = 0\n",
    "for face in mesh.faces:\n",
    "    v0 = mesh.vertices[face[0]]\n",
    "    v1 = mesh.vertices[face[1]]\n",
    "    v2 = mesh.vertices[face[2]]\n",
    "    total_area += triangle_area(v0, v1, v2)"
   ]
  },
  {
   "cell_type": "code",
   "execution_count": 4,
   "metadata": {
    "collapsed": true
   },
   "outputs": [],
   "source": [
    "# Calculate weight per triangle\n",
    "triangle_weights = []\n",
    "for face in mesh.faces:\n",
    "    v0 = mesh.vertices[face[0]]\n",
    "    v1 = mesh.vertices[face[1]]\n",
    "    v2 = mesh.vertices[face[2]]\n",
    "    triangle_weights.append(triangle_area(v0, v1, v2) / total_area)"
   ]
  },
  {
   "cell_type": "code",
   "execution_count": 5,
   "metadata": {
    "collapsed": true
   },
   "outputs": [],
   "source": [
    "# Sample points along mesh surface\n",
    "num_points = 10000\n",
    "point_cloud = []\n",
    "for face, weight in zip(mesh.faces, triangle_weights):\n",
    "    num_points_in_triangle = weight * num_points\n",
    "    v0 = mesh.vertices[face[0]]\n",
    "    v1 = mesh.vertices[face[1]]\n",
    "    v2 = mesh.vertices[face[2]]\n",
    "    for _ in range(int(np.ceil(num_points_in_triangle))):\n",
    "        r1 = np.random.rand()\n",
    "        r2 = np.random.rand()\n",
    "        D = (1 - np.sqrt(r1)) * v0 + np.sqrt(r1) * (1 - r2) * v1 + np.sqrt(r1) * r2 * v2\n",
    "        point_cloud.append(D)\n",
    "        \n",
    "        if len(point_cloud) >= num_points:\n",
    "            break\n",
    "    if len(point_cloud) >= num_points:\n",
    "            break"
   ]
  },
  {
   "cell_type": "code",
   "execution_count": 6,
   "metadata": {},
   "outputs": [
    {
     "data": {
      "application/vnd.jupyter.widget-view+json": {
       "model_id": "b8d049e5ffe34df496351510881c2298",
       "version_major": 2,
       "version_minor": 0
      },
      "text/html": [
       "<p>Failed to display Jupyter Widget of type <code>FloatProgress</code>.</p>\n",
       "<p>\n",
       "  If you're reading this message in the Jupyter Notebook or JupyterLab Notebook, it may mean\n",
       "  that the widgets JavaScript is still loading. If this message persists, it\n",
       "  likely means that the widgets JavaScript library is either not installed or\n",
       "  not enabled. See the <a href=\"https://ipywidgets.readthedocs.io/en/stable/user_install.html\">Jupyter\n",
       "  Widgets Documentation</a> for setup instructions.\n",
       "</p>\n",
       "<p>\n",
       "  If you're reading this message in another frontend (for example, a static\n",
       "  rendering on GitHub or <a href=\"https://nbviewer.jupyter.org/\">NBViewer</a>),\n",
       "  it may mean that your frontend doesn't currently support widgets.\n",
       "</p>\n"
      ],
      "text/plain": [
       "FloatProgress(value=1.0, max=1000.0, min=1.0)"
      ]
     },
     "metadata": {},
     "output_type": "display_data"
    }
   ],
   "source": [
    "from ipywidgets import FloatProgress\n",
    "from IPython.display import display\n",
    "from scipy.spatial import distance_matrix\n",
    "\n",
    "num_samples = 1000\n",
    "\n",
    "S = [np.random.randint(0, len(point_cloud))]\n",
    "D = distance_matrix(point_cloud, point_cloud)\n",
    "\n",
    "progress = FloatProgress(min=1, max=num_samples); display(progress)\n",
    "\n",
    "while len(S) < num_samples:\n",
    "    progress.value = len(S)\n",
    "    progress.description = \"%i/%i\" % (len(S), num_samples)\n",
    "    d_max = 0\n",
    "    for i in range(len(point_cloud)):\n",
    "        d_min = float(\"inf\")\n",
    "        for j in range(len(S)):\n",
    "            d_min = min(D[S[j], i], d_min)\n",
    "        if d_min > d_max:\n",
    "            d_max = d_min\n",
    "            q_farthest = i\n",
    "    S.append(q_farthest)"
   ]
  },
  {
   "cell_type": "code",
   "execution_count": 7,
   "metadata": {
    "collapsed": true
   },
   "outputs": [],
   "source": [
    "sampled_point_cloud = [point_cloud[i] for i in S]"
   ]
  },
  {
   "cell_type": "code",
   "execution_count": 8,
   "metadata": {
    "collapsed": true
   },
   "outputs": [],
   "source": [
    "import pickle\n",
    "def save_object(obj, filename):\n",
    "    with open(filename, 'wb') as output:  # Overwrites any existing file.\n",
    "        pickle.dump(obj, output, pickle.HIGHEST_PROTOCOL)"
   ]
  },
  {
   "cell_type": "code",
   "execution_count": 9,
   "metadata": {
    "collapsed": true
   },
   "outputs": [],
   "source": [
    "save_object(sampled_point_cloud, \"%s.cloud\" % object_name)"
   ]
  }
 ],
 "metadata": {
  "kernelspec": {
   "display_name": "Python 3",
   "language": "python",
   "name": "python3"
  },
  "language_info": {
   "codemirror_mode": {
    "name": "ipython",
    "version": 3
   },
   "file_extension": ".py",
   "mimetype": "text/x-python",
   "name": "python",
   "nbconvert_exporter": "python",
   "pygments_lexer": "ipython3",
   "version": "3.6.2"
  }
 },
 "nbformat": 4,
 "nbformat_minor": 2
}
