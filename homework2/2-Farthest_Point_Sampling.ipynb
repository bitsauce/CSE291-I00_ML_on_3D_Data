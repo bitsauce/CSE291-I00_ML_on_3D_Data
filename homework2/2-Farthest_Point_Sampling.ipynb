{
 "cells": [
  {
   "cell_type": "code",
   "execution_count": null,
   "metadata": {
    "collapsed": true
   },
   "outputs": [],
   "source": [
    "import pymesh\n",
    "mesh = pymesh.load_mesh(\"teapot.obj\")"
   ]
  },
  {
   "cell_type": "code",
   "execution_count": null,
   "metadata": {
    "collapsed": true
   },
   "outputs": [],
   "source": [
    "# Calculate surface area of mesh\n",
    "total_area = 0\n",
    "for triangle in mesh.triangles:\n",
    "    total_area += calc_area(triangle)"
   ]
  },
  {
   "cell_type": "code",
   "execution_count": null,
   "metadata": {
    "collapsed": true
   },
   "outputs": [],
   "source": [
    "# Calculate weight per triangle\n",
    "triangle_weights = []\n",
    "for triangle in mesh.triangles:\n",
    "    triangle_weights.append(calc_area(triangle) / total_area)"
   ]
  },
  {
   "cell_type": "code",
   "execution_count": null,
   "metadata": {
    "collapsed": true
   },
   "outputs": [],
   "source": [
    "num_points = 10000\n",
    "point_cloud = []\n",
    "for triangle, weight in zip(mesh.triangles, triange_weights):\n",
    "    num_points_in_triangle = weight * num_points\n",
    "    for _ in range(num_points_in_triangle):\n",
    "        r1 = np.random.rand()\n",
    "        r2 = np.random.rand()\n",
    "        D = (1 - np.sqrt(r1)) * A + np.sqrt(r1) * (1 - r2) * B + np.sqrt(r1) * r2 * C\n",
    "        point_cloud.append(D)"
   ]
  },
  {
   "cell_type": "code",
   "execution_count": null,
   "metadata": {
    "collapsed": true
   },
   "outputs": [],
   "source": []
  }
 ],
 "metadata": {
  "kernelspec": {
   "display_name": "Python 3",
   "language": "python",
   "name": "python3"
  },
  "language_info": {
   "codemirror_mode": {
    "name": "ipython",
    "version": 3
   },
   "file_extension": ".py",
   "mimetype": "text/x-python",
   "name": "python",
   "nbconvert_exporter": "python",
   "pygments_lexer": "ipython3",
   "version": "3.6.2"
  }
 },
 "nbformat": 4,
 "nbformat_minor": 2
}
