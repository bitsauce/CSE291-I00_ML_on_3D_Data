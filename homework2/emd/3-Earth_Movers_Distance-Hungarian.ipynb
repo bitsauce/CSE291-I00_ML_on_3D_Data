{
 "cells": [
  {
   "cell_type": "code",
   "execution_count": 1,
   "metadata": {
    "collapsed": true
   },
   "outputs": [],
   "source": [
    "import numpy as np\n",
    "from scipy.spatial import distance_matrix\n",
    "from scipy.optimize import linear_sum_assignment\n",
    "from ipywidgets import FloatProgress\n",
    "from IPython.display import display"
   ]
  },
  {
   "cell_type": "code",
   "execution_count": 2,
   "metadata": {
    "collapsed": true
   },
   "outputs": [],
   "source": [
    "import pickle\n",
    "def load_object(filename):\n",
    "    with open(filename, 'rb') as f:\n",
    "        return pickle.load(f)"
   ]
  },
  {
   "cell_type": "code",
   "execution_count": 3,
   "metadata": {
    "collapsed": true
   },
   "outputs": [],
   "source": [
    "point_cloud_0 = np.array(load_object(\"../teapot.cloud\"))\n",
    "point_cloud_1 = np.array(load_object(\"../violin_case.cloud\"))\n",
    "np.random.shuffle(point_cloud_0)\n",
    "np.random.shuffle(point_cloud_1)\n",
    "point_cloud_0 = point_cloud_0[:10]\n",
    "point_cloud_1 = point_cloud_1[:10]\n",
    "D = distance_matrix(point_cloud_0, point_cloud_1)"
   ]
  },
  {
   "cell_type": "code",
   "execution_count": 4,
   "metadata": {},
   "outputs": [
    {
     "name": "stdout",
     "output_type": "stream",
     "text": [
      "linear_sum_assignment(D) ->\n",
      "557.3235828799391\n"
     ]
    },
    {
     "data": {
      "application/vnd.jupyter.widget-view+json": {
       "model_id": "c15ebf2edc6e4c138a914a6c1f72bcaa",
       "version_major": 2,
       "version_minor": 0
      },
      "text/plain": [
       "A Jupyter Widget"
      ]
     },
     "metadata": {},
     "output_type": "display_data"
    },
    {
     "name": "stdout",
     "output_type": "stream",
     "text": [
      "hungarian(D) ->\n",
      "556.5343843579753\n"
     ]
    }
   ],
   "source": [
    "# Source: https://en.wikipedia.org/wiki/Hungarian_algorithm\n",
    "def hungarian(cost_matrix):\n",
    "    # Copy cost matrix\n",
    "    cost_matrix = np.copy(cost_matrix)\n",
    "    N = cost_matrix.shape[0]\n",
    "    \n",
    "    # Subtract row minima\n",
    "    for row in range(N):\n",
    "        cost_matrix[row, :] -= np.min(cost_matrix[row, :])\n",
    "    \n",
    "    # Subtract column minima\n",
    "    for col in range(N):\n",
    "        cost_matrix[:, col] -= np.min(cost_matrix[:, col])\n",
    "    \n",
    "    progress = FloatProgress(min=0, max=N); display(progress)\n",
    "    #for _ in range(3):\n",
    "    while True:\n",
    "        #print(\"Cost\")\n",
    "        #print(cost_matrix)\n",
    "        \n",
    "        # Find valid row and column assignments\n",
    "        assigned_rows = np.full(N, False, dtype=np.bool)\n",
    "        assigned_columns = np.full(N, False, dtype=np.bool)\n",
    "        zeros_status = np.full((N, N), 0, dtype=np.int8) # 0 = unassigned, 1 = assigned, -1 = canceled\n",
    "\n",
    "        # For every row, if the row contains only one 0, assign it\n",
    "        for row in range(N):\n",
    "            column_indices = np.argwhere(np.isclose(cost_matrix[row, :], 0))\n",
    "            if len(column_indices) == 1: # Only one zero\n",
    "                col = column_indices[0][0]\n",
    "                if not assigned_columns[col]: # If column not assigned already\n",
    "                    # Assign column and row\n",
    "                    assigned_columns[col] = True\n",
    "                    assigned_rows[row] = True\n",
    "                    \n",
    "                    # Cancel other zeroes in the column\n",
    "                    zeros_status[np.where(np.isclose(cost_matrix[:, col], 0)), col] = -1\n",
    "                    zeros_status[row, col] = 1\n",
    "\n",
    "        # For every column, if the column contains only one 0, assign it\n",
    "        for col in range(N):\n",
    "            row_indices = np.argwhere(np.isclose(cost_matrix[:, col], 0))\n",
    "            if len(row_indices) == 1: # Only one zero\n",
    "                row = row_indices[0][0]\n",
    "                if not assigned_rows[row] and not assigned_columns[col]: # If row and column not assigned already\n",
    "                    # Assign column and row\n",
    "                    assigned_columns[col] = True\n",
    "                    assigned_rows[row] = True\n",
    "                    \n",
    "                    # Cancel other zeroes in the row\n",
    "                    zeros_status[row, np.where(np.isclose(cost_matrix[row, :], 0))] = -1\n",
    "                    zeros_status[row, col] = 1\n",
    " \n",
    "        #print(\"Zeros\")\n",
    "        #print(zeros_status)\n",
    "        \n",
    "        # Check for single zeroes after cancelation\n",
    "        for row in range(N):\n",
    "            if not assigned_rows[row]:\n",
    "                column_index = -1\n",
    "                for col in range(N):\n",
    "                    if np.isclose(cost_matrix[row, col], 0) and zeros_status[row, col] == 0:\n",
    "                        if column_index == -1:\n",
    "                            column_index = col\n",
    "                        else:\n",
    "                            column_index = -1\n",
    "                            break\n",
    "                \n",
    "                if column_index != -1:# and not assigned_columns[column_index]:\n",
    "                    # Assign column and row\n",
    "                    assigned_columns[column_index] = True\n",
    "                    assigned_rows[row] = True\n",
    "                    zeros_status[row, column_index] = 1\n",
    "        \n",
    "        for col in range(N):\n",
    "            if not assigned_columns[col]:\n",
    "                row_index = -1\n",
    "                for row in range(N):\n",
    "                    if np.isclose(cost_matrix[row, col], 0) and zeros_status[row, col] == 0:\n",
    "                        if row_index == -1:\n",
    "                            row_index = row\n",
    "                        else:\n",
    "                            row_index = -1\n",
    "                            break\n",
    "                \n",
    "                if row_index != -1:# and not assigned_rows[row_index]:\n",
    "                    # Assign column and row\n",
    "                    assigned_columns[col] = True\n",
    "                    assigned_rows[row_index] = True\n",
    "                    zeros_status[row_index, col] = 1\n",
    "        \n",
    "        #print(\"#Assignments\")\n",
    "        #print(np.sum(zeros_status == 1))\n",
    "        \n",
    "        # If number of assignments == N, we have reached the optimal solution\n",
    "        num_assignments = np.sum(zeros_status == 1)\n",
    "        progress.value = num_assignments\n",
    "        progress.description = \"%i/%i\" % (num_assignments, N)\n",
    "        if num_assignments == N:\n",
    "            return list(range(N)), [np.argmax(zeros_status[row]) for row in range(N)]\n",
    "                \n",
    "        # Create lines by marking rows and columns\n",
    "        marked_rows = np.full(N, False, dtype=np.bool)\n",
    "        marked_columns = np.full(N, False, dtype=np.bool)\n",
    "        for row in range(cost_matrix.shape[0]):\n",
    "            # For every row without assignment\n",
    "            if not assigned_rows[row]:\n",
    "                # Mark the row\n",
    "                marked_rows[row] = True\n",
    "\n",
    "                # Find the zeros in the row\n",
    "                for col in range(cost_matrix.shape[1]):\n",
    "                    if np.isclose(cost_matrix[row, col], 0):\n",
    "                        # Mark the column\n",
    "                        marked_columns[col] = True\n",
    "\n",
    "                        # Find row with assignment in the current column\n",
    "                        for row2 in range(cost_matrix.shape[0]):\n",
    "                            if zeros_status[row2, col] == 1:\n",
    "                                marked_rows[row2] = True\n",
    "\n",
    "        lines = np.full((N, N), 0, dtype=np.uint8)\n",
    "        for row in range(cost_matrix.shape[0]):\n",
    "            for col in range(cost_matrix.shape[1]):\n",
    "                if not marked_rows[row]:\n",
    "                    lines[row, col] += 1\n",
    "                if marked_columns[col]:\n",
    "                    lines[row, col] += 1\n",
    "\n",
    "        #print(\"Lines\")\n",
    "        #print(lines)\n",
    "\n",
    "        min_uncovered = np.min(cost_matrix[np.where(lines == 0)])\n",
    "        cost_matrix[np.where(lines == 0)] -= min_uncovered # subtract uncovered values\n",
    "        cost_matrix[np.where(lines == 2)] += min_uncovered # add to intersections\n",
    "\n",
    "        \n",
    "row_ind, col_ind = linear_sum_assignment(D)\n",
    "print(\"linear_sum_assignment(D) ->\")\n",
    "print(D[row_ind, col_ind].sum())\n",
    "\n",
    "row_ind, col_ind = hungarian(D)\n",
    "print(\"hungarian(D) ->\")\n",
    "print(D[row_ind, col_ind].sum())"
   ]
  },
  {
   "cell_type": "markdown",
   "metadata": {},
   "source": [
    "Unfortunately it gets stuck on bigger examples, but here I show it works when I sample 10 points of the point clouds."
   ]
  }
 ],
 "metadata": {
  "kernelspec": {
   "display_name": "Python 3",
   "language": "python",
   "name": "python3"
  },
  "language_info": {
   "codemirror_mode": {
    "name": "ipython",
    "version": 3
   },
   "file_extension": ".py",
   "mimetype": "text/x-python",
   "name": "python",
   "nbconvert_exporter": "python",
   "pygments_lexer": "ipython3",
   "version": "3.6.4"
  }
 },
 "nbformat": 4,
 "nbformat_minor": 2
}
