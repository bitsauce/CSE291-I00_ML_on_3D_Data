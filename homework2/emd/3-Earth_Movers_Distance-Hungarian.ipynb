{
 "cells": [
  {
   "cell_type": "code",
   "execution_count": 2,
   "metadata": {
    "collapsed": true
   },
   "outputs": [],
   "source": [
    "import numpy as np\n",
    "from scipy.spatial import distance_matrix\n",
    "from scipy.optimize import linear_sum_assignment\n",
    "from ipywidgets import FloatProgress\n",
    "from IPython.display import display"
   ]
  },
  {
   "cell_type": "code",
   "execution_count": 3,
   "metadata": {
    "collapsed": true
   },
   "outputs": [],
   "source": [
    "import pickle\n",
    "def load_object(filename):\n",
    "    with open(filename, 'rb') as f:\n",
    "        return pickle.load(f)"
   ]
  },
  {
   "cell_type": "code",
   "execution_count": 4,
   "metadata": {
    "collapsed": true
   },
   "outputs": [],
   "source": [
    "point_cloud_0 = np.array(load_object(\"../teapot.cloud\"))\n",
    "point_cloud_1 = np.array(load_object(\"../violin_case.cloud\"))\n",
    "np.random.shuffle(point_cloud_0)\n",
    "np.random.shuffle(point_cloud_1)\n",
    "point_cloud_0 = point_cloud_0[:10]\n",
    "point_cloud_1 = point_cloud_1[:10]"
   ]
  },
  {
   "cell_type": "code",
   "execution_count": 5,
   "metadata": {},
   "outputs": [
    {
     "data": {
      "text/plain": [
       "'row_ind, col_ind = linear_sum_assignment(cost)\\nprint(row_ind, col_ind)\\nprint(cost[row_ind, col_ind].sum())\\n\\nrow_ind, col_ind = hungarian(cost)\\nprint(row_ind, col_ind)\\nprint(cost[row_ind, col_ind].sum())'"
      ]
     },
     "execution_count": 5,
     "metadata": {},
     "output_type": "execute_result"
    }
   ],
   "source": [
    "# Source: https://github.com/amirbawab/Hungarian-Algorithm/blob/master/Hungarian.java\n",
    "def hungarian(cost_matrix):\n",
    "    # Copy cost matrix\n",
    "    cost_matrix = np.copy(cost_matrix)\n",
    "    \n",
    "    # Subtract row minima\n",
    "    for row in range(cost_matrix.shape[0]):\n",
    "        cost_matrix[row, :] -= np.min(cost_matrix[row, :])\n",
    "    \n",
    "    # Subtract column minima\n",
    "    for col in range(cost_matrix.shape[1]):\n",
    "        cost_matrix[:, col] -= np.min(cost_matrix[:, col])\n",
    "    \n",
    "    # Find which direction (vertical or horizontal) has the most zeroes\n",
    "    # Negative means horizontal, positive means vertical\n",
    "    def max_vh(row, col):\n",
    "        r = 0\n",
    "        for i in range(cost_matrix.shape[0]):\n",
    "            if cost_matrix[i, col] == 0: r += 1\n",
    "            if cost_matrix[row, i] == 0: r -= 1\n",
    "        return r\n",
    "    \n",
    "    def color_neighbours(row, col, vh):\n",
    "        global num_lines, lines\n",
    "        if lines[row, col] == 2: return # Cell was colored twice (intersection)\n",
    "        if vh >  0 and lines[row, col] ==  1: return # Don't recolor as vertical if colored vertically\n",
    "        if vh <= 0 and lines[row, col] == -1: return # Don't recolor as horizontal if colored horizontally\n",
    "        \n",
    "        for i in range(cost_matrix.shape[0]):\n",
    "            if vh > 0:\n",
    "                lines[i, col] = 2 if lines[i, col] == 2 else (2 if lines[i, col] == -1 else  1)\n",
    "            else:\n",
    "                lines[row, i] = 2 if lines[row, i] == 2 else (2 if lines[row, i] ==  1 else -1)\n",
    "        num_lines += 1\n",
    "    \n",
    "    # Cover all zeroes with minimum number of lines\n",
    "    def cover_zeros():\n",
    "        global num_lines, lines\n",
    "        num_lines = 0\n",
    "        lines = np.zeros(cost_matrix.shape)\n",
    "        for row in range(cost_matrix.shape[0]):\n",
    "            for col in range(cost_matrix.shape[1]):\n",
    "                if cost_matrix[row, col] == 0:\n",
    "                    color_neighbours(row, col, max_vh(row, col))\n",
    "    \n",
    "    progress = FloatProgress(min=0, max=cost_matrix.shape[0]); display(progress)\n",
    "    while True:\n",
    "        # Cover zeros\n",
    "        cover_zeros()\n",
    "        \n",
    "        # Break if all rows and columns are covered\n",
    "        progress.value = num_lines\n",
    "        progress.description = \"%i/%i\" % (num_lines, cost_matrix.shape[0])\n",
    "        if num_lines >= cost_matrix.shape[0]:\n",
    "            break\n",
    "        \n",
    "        # Subtract the minimum uncovered value\n",
    "        # from all the uncovered values\n",
    "        non_covered_ind = np.where(lines == 0)\n",
    "        min_uncovered = np.min(cost_matrix[non_covered_ind])\n",
    "        cost_matrix[non_covered_ind] -= min_uncovered\n",
    "        \n",
    "        # Add the minimum uncovered value\n",
    "        # to the intersection values\n",
    "        intersection_ind = np.where(lines == 2)\n",
    "        cost_matrix[intersection_ind] += min_uncovered\n",
    "    \n",
    "    row_assignment = [None] * cost_matrix.shape[0]\n",
    "    assigned_cols = [False] * cost_matrix.shape[1]\n",
    "    \n",
    "    def assign_row(row):\n",
    "        if row == len(row_assignment): return True # All rows were assigned to a column\n",
    "        for col in range(cost_matrix.shape[1]):\n",
    "            if assigned_cols[col] == False and cost_matrix[row, col] == 0:\n",
    "                row_assignment[row] = col\n",
    "                assigned_cols[col] = True\n",
    "                if assign_row(row+1):\n",
    "                    return True\n",
    "                assigned_cols[col] = False\n",
    "        return False\n",
    "        \n",
    "    assign_row(0)\n",
    "    \n",
    "    return list(range(cost_matrix.shape[0])), row_assignment\n",
    "    \n",
    "#cost = np.array([[82, 83, 69, 92],\n",
    "#                 [77, 37, 49, 92],\n",
    "#                 [11, 69, 5, 86],\n",
    "#                 [8, 9, 98, 23]])\n",
    "\n",
    "\"\"\"cost=np.array([[68, 38, 9, 60, 46, 58, 83, 87, 84, 20], \n",
    "[53, 4, 16, 4, 44, 72, 34, 97, 69, 5], \n",
    "[21, 2, 45, 55, 34, 15, 2, 13, 12, 51], \n",
    "[8, 93, 22, 66, 25, 9, 59, 71, 12, 95], \n",
    "[42, 35, 33, 23, 3, 8, 8, 50, 23, 95], \n",
    "[74, 37, 15, 21, 36, 49, 80, 55, 79, 53], \n",
    "[21, 97, 55, 12, 25, 67, 10, 65, 2, 49], \n",
    "[8, 48, 1, 92, 8, 76, 41, 32, 87, 36], \n",
    "[32, 73, 71, 47, 94, 92, 16, 97, 5, 4], \n",
    "[58, 37, 54, 52, 84, 16, 34, 5, 72, 26]])\"\"\"\n",
    "\n",
    "\"\"\"row_ind, col_ind = linear_sum_assignment(cost)\n",
    "print(row_ind, col_ind)\n",
    "print(cost[row_ind, col_ind].sum())\n",
    "\n",
    "row_ind, col_ind = hungarian(cost)\n",
    "print(row_ind, col_ind)\n",
    "print(cost[row_ind, col_ind].sum())\"\"\""
   ]
  },
  {
   "cell_type": "code",
   "execution_count": 6,
   "metadata": {
    "collapsed": true
   },
   "outputs": [],
   "source": [
    "D = distance_matrix(point_cloud_0, point_cloud_1)"
   ]
  },
  {
   "cell_type": "code",
   "execution_count": 7,
   "metadata": {},
   "outputs": [
    {
     "name": "stdout",
     "output_type": "stream",
     "text": [
      "[0 1 2 3 4 5 6 7 8 9] [4 3 8 0 2 6 5 9 7 1]\n",
      "524.4006166759773\n"
     ]
    }
   ],
   "source": [
    "row_ind, col_ind = linear_sum_assignment(D)\n",
    "print(row_ind, col_ind)\n",
    "print(D[row_ind, col_ind].sum())"
   ]
  },
  {
   "cell_type": "code",
   "execution_count": 13,
   "metadata": {},
   "outputs": [
    {
     "data": {
      "application/vnd.jupyter.widget-view+json": {
       "model_id": "e7ad6db9ded1437db83091149b44846e",
       "version_major": 2,
       "version_minor": 0
      },
      "text/plain": [
       "A Jupyter Widget"
      ]
     },
     "metadata": {},
     "output_type": "display_data"
    },
    {
     "name": "stdout",
     "output_type": "stream",
     "text": [
      "[0, 1, 2, 3, 4, 5, 6, 7, 8, 9] [4, 8, 8, 0, 2, 6, 7, 9, None, None]\n"
     ]
    },
    {
     "ename": "IndexError",
     "evalue": "only integers, slices (`:`), ellipsis (`...`), numpy.newaxis (`None`) and integer or boolean arrays are valid indices",
     "output_type": "error",
     "traceback": [
      "\u001b[0;31m---------------------------------------------------------------------------\u001b[0m",
      "\u001b[0;31mIndexError\u001b[0m                                Traceback (most recent call last)",
      "\u001b[0;32m<ipython-input-13-455c8c7295d9>\u001b[0m in \u001b[0;36m<module>\u001b[0;34m()\u001b[0m\n\u001b[1;32m      1\u001b[0m \u001b[0mrow_ind\u001b[0m\u001b[0;34m,\u001b[0m \u001b[0mcol_ind\u001b[0m \u001b[0;34m=\u001b[0m \u001b[0mhungarian\u001b[0m\u001b[0;34m(\u001b[0m\u001b[0mD\u001b[0m\u001b[0;34m)\u001b[0m\u001b[0;34m\u001b[0m\u001b[0m\n\u001b[1;32m      2\u001b[0m \u001b[0mprint\u001b[0m\u001b[0;34m(\u001b[0m\u001b[0mrow_ind\u001b[0m\u001b[0;34m,\u001b[0m \u001b[0mcol_ind\u001b[0m\u001b[0;34m)\u001b[0m\u001b[0;34m\u001b[0m\u001b[0m\n\u001b[0;32m----> 3\u001b[0;31m \u001b[0mprint\u001b[0m\u001b[0;34m(\u001b[0m\u001b[0mD\u001b[0m\u001b[0;34m[\u001b[0m\u001b[0mrow_ind\u001b[0m\u001b[0;34m,\u001b[0m \u001b[0mcol_ind\u001b[0m\u001b[0;34m]\u001b[0m\u001b[0;34m.\u001b[0m\u001b[0msum\u001b[0m\u001b[0;34m(\u001b[0m\u001b[0;34m)\u001b[0m\u001b[0;34m)\u001b[0m\u001b[0;34m\u001b[0m\u001b[0m\n\u001b[0m",
      "\u001b[0;31mIndexError\u001b[0m: only integers, slices (`:`), ellipsis (`...`), numpy.newaxis (`None`) and integer or boolean arrays are valid indices"
     ]
    }
   ],
   "source": [
    "row_ind, col_ind = hungarian(D)\n",
    "print(row_ind, col_ind)\n",
    "print(D[row_ind, col_ind].sum())"
   ]
  }
 ],
 "metadata": {
  "kernelspec": {
   "display_name": "Python 3",
   "language": "python",
   "name": "python3"
  },
  "language_info": {
   "codemirror_mode": {
    "name": "ipython",
    "version": 3
   },
   "file_extension": ".py",
   "mimetype": "text/x-python",
   "name": "python",
   "nbconvert_exporter": "python",
   "pygments_lexer": "ipython3",
   "version": "3.6.4"
  }
 },
 "nbformat": 4,
 "nbformat_minor": 2
}
