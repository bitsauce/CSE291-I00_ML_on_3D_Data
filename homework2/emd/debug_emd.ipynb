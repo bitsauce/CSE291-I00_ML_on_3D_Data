{
 "cells": [
  {
   "cell_type": "code",
   "execution_count": 1,
   "metadata": {},
   "outputs": [
    {
     "name": "stderr",
     "output_type": "stream",
     "text": [
      "/home/marcus/anaconda3/lib/python3.6/site-packages/h5py/__init__.py:34: FutureWarning: Conversion of the second argument of issubdtype from `float` to `np.floating` is deprecated. In future, it will be treated as `np.float64 == np.dtype(float).type`.\n",
      "  from ._conv import register_converters as _register_converters\n"
     ]
    }
   ],
   "source": [
    "import tf_emddistance\n",
    "import numpy as np\n",
    "import tensorflow as tf\n",
    "\n",
    "'''\n",
    "Toy example\n",
    "\n",
    "Basically pass two tensors of (BATCH_SIZE, CLOUD_SIZE, 3) into the loss function\n",
    "\n",
    "\n",
    "Expected output:\n",
    "loss should be equal to loss3\n",
    "\n",
    "loss2 should be 0\n",
    "'''\n",
    "\n",
    "\n",
    "pt_gt=np.ndarray((3,64,3))\n",
    "pt_gt[0,:]=np.reshape(np.loadtxt('latent_0.txt'), (64,3))\n",
    "pt_gt[1,:]=np.reshape(np.loadtxt('latent_0.txt'), (64,3))\n",
    "pt_gt[2,:]=np.reshape(np.loadtxt('latent_0.txt'), (64,3))\n",
    "pt_gt=tf.convert_to_tensor(pt_gt, dtype=tf.float32)\n",
    "x_res=np.ndarray((3,64,3))\n",
    "x_res[0,:]=np.reshape(np.loadtxt('latent_1000.txt'), (64,3))\n",
    "x_res[1,:]=np.reshape(np.loadtxt('latent_0.txt'), (64,3))\n",
    "x_res[2,:]=np.reshape(np.loadtxt('latent_1000.txt'), (64,3))\n",
    "x_res=tf.convert_to_tensor(x_res, dtype=tf.float32)"
   ]
  },
  {
   "cell_type": "code",
   "execution_count": 2,
   "metadata": {},
   "outputs": [
    {
     "name": "stdout",
     "output_type": "stream",
     "text": [
      "emd\n"
     ]
    }
   ],
   "source": [
    "dist,idx1,idx2=tf_emddistance.emd_distance(pt_gt,x_res)"
   ]
  },
  {
   "cell_type": "code",
   "execution_count": 3,
   "metadata": {
    "collapsed": true
   },
   "outputs": [],
   "source": [
    "\n",
    "\n",
    "loss=tf.reduce_mean(dist[0,:])*10000\n",
    "loss2=tf.reduce_mean(dist[1,:])*10000\n",
    "loss3=tf.reduce_mean(dist[2,:])*10000\n",
    "#loss2=0\n",
    "sess=tf.Session()\n"
   ]
  },
  {
   "cell_type": "code",
   "execution_count": 4,
   "metadata": {},
   "outputs": [
    {
     "name": "stdout",
     "output_type": "stream",
     "text": [
      "[1.257006, 0.0, 1.257006]\n"
     ]
    }
   ],
   "source": [
    "\n",
    "print(sess.run([loss, loss2, loss3]))"
   ]
  }
 ],
 "metadata": {
  "kernelspec": {
   "display_name": "Python 3",
   "language": "python",
   "name": "python3"
  },
  "language_info": {
   "codemirror_mode": {
    "name": "ipython",
    "version": 3
   },
   "file_extension": ".py",
   "mimetype": "text/x-python",
   "name": "python",
   "nbconvert_exporter": "python",
   "pygments_lexer": "ipython3",
   "version": "3.6.4"
  }
 },
 "nbformat": 4,
 "nbformat_minor": 2
}
