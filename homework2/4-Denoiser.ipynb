{
 "cells": [
  {
   "cell_type": "code",
   "execution_count": null,
   "metadata": {},
   "outputs": [],
   "source": [
    "%matplotlib inline\n",
    "import matplotlib.pyplot as plt\n",
    "import tensorflow as tf\n",
    "import numpy as np\n",
    "from tensorflow.examples.tutorials.mnist import input_data\n",
    "from ipywidgets import FloatProgress\n",
    "from IPython.display import display"
   ]
  },
  {
   "cell_type": "code",
   "execution_count": null,
   "metadata": {},
   "outputs": [],
   "source": [
    "# Read data\n",
    "data = input_data.read_data_sets(\"MNIST/\", one_hot=True)"
   ]
  },
  {
   "cell_type": "code",
   "execution_count": null,
   "metadata": {},
   "outputs": [],
   "source": [
    "# Placeholder for noisy image \n",
    "img_noisy = tf.placeholder(tf.float32, [None, 784])\n",
    "\n",
    "# Placeholder for original image\n",
    "img_original = tf.placeholder(tf.float32, [None, 784])\n",
    "\n",
    "# Reshape the input -> [?, 28, 28, 1]\n",
    "input_layer = tf.reshape(img_noisy, [-1, 28, 28, 1])\n",
    "\n",
    "#############################################\n",
    "# Encoder\n",
    "#############################################\n",
    "\n",
    "# Convolutional layer 1 -> [?, 24, 24, 32]\n",
    "conv1 = tf.layers.conv2d(inputs=input_layer, filters=32, kernel_size=(5, 5), padding=\"valid\", activation=tf.nn.relu)\n",
    "\n",
    "# Max pool -> [?, 12, 12, 32]\n",
    "pool1 = tf.layers.max_pooling2d(inputs=conv1, pool_size=[2, 2], strides=2)\n",
    "\n",
    "# Convolutional layer 2 -> [?, 8, 8, 64]\n",
    "conv2 = tf.layers.conv2d(inputs=pool1, filters=64, kernel_size=(5, 5), padding=\"valid\", activation=tf.nn.relu)\n",
    "\n",
    "# Max pool -> [?, 4, 4, 64]\n",
    "pool2 = tf.layers.max_pooling2d(inputs=conv2, pool_size=[2, 2], strides=2)\n",
    "\n",
    "# Flatten result -> [?, 1024]\n",
    "conv2_flat = tf.reshape(pool2, [-1, 4 * 4 * 64])\n",
    "\n",
    "# Feed to dense layer 1 -> [?, 1024] 4*4*64\n",
    "dense1 = tf.layers.dense(inputs=conv2_flat, units=750, activation=tf.nn.relu)\n",
    "\n",
    "# Dense layer 2 -> [?, 100]\n",
    "dense2 = tf.layers.dense(inputs=dense1, units=100, activation=tf.nn.relu)\n",
    "\n",
    "# Reshape dense into 3D tensor -> [?, 10, 10, 1]\n",
    "dense_reshaped = tf.reshape(dense2, [-1, 10, 10, 1])\n",
    "\n",
    "#############################################\n",
    "# Decoder\n",
    "#############################################\n",
    "\n",
    "# Transpose convolusion 1 -> [?, 14, 14, 32]\n",
    "conv_trans_1 = tf.layers.conv2d_transpose(dense_reshaped,\n",
    "                                          filters=32,\n",
    "                                          kernel_size=(5, 5),\n",
    "                                          strides=(1, 1),\n",
    "                                          padding=\"valid\",\n",
    "                                          activation=tf.nn.relu)\n",
    "\n",
    "# Transpose convolusion 2 -> [?, 18, 18, 64]\n",
    "conv_trans_2 = tf.layers.conv2d_transpose(conv_trans_1,\n",
    "                                          filters=64,\n",
    "                                          kernel_size=(5, 5),\n",
    "                                          strides=(1, 1),\n",
    "                                          padding=\"valid\",\n",
    "                                          activation=tf.nn.relu)\n",
    "\n",
    "# Transpose convolusion 3 -> [?, 28, 28, 1]\n",
    "conv_trans_3 = tf.layers.conv2d_transpose(conv_trans_2,\n",
    "                                          filters=1,\n",
    "                                          kernel_size=(11, 11),\n",
    "                                          strides=(1, 1),\n",
    "                                          padding=\"valid\",\n",
    "                                          activation=tf.nn.relu)\n",
    "\n",
    "# Calculate loss\n",
    "loss = tf.reduce_mean(tf.pow(tf.subtract(tf.reshape(conv_trans_3, [-1, 784]), img_original), 2))"
   ]
  },
  {
   "cell_type": "code",
   "execution_count": null,
   "metadata": {
    "scrolled": false
   },
   "outputs": [],
   "source": [
    "optim = tf.train.AdamOptimizer(learning_rate=0.001).minimize(loss)\n",
    "\n",
    "sess = tf.InteractiveSession()\n",
    "tf.global_variables_initializer().run()\n",
    "\n",
    "# Make batches to train\n",
    "num_iter = 1000\n",
    "batch_size = 64\n",
    "loss_values = []\n",
    "progress = FloatProgress(min=0, max=num_iter); display(progress)\n",
    "for i in range(num_iter):\n",
    "    progress.description = \"Epoch %i/%i\" % (i, num_iter)\n",
    "    \n",
    "    # Get next batch\n",
    "    batch_img, _ = data.train.next_batch(batch_size)\n",
    "    \n",
    "    # Add noise to the batch\n",
    "    batch_img_noisy = np.copy(batch_img) + np.random.normal(loc=0.0, scale=0.15, size=batch_img.shape)\n",
    "    \n",
    "    # Do training\n",
    "    _, l = sess.run([optim, loss], feed_dict={ img_noisy: batch_img_noisy, img_original: batch_img })\n",
    "    loss_values.append(l)\n",
    "    \n",
    "    # Show progress\n",
    "    progress.value += 1"
   ]
  },
  {
   "cell_type": "code",
   "execution_count": null,
   "metadata": {},
   "outputs": [],
   "source": [
    "plt.plot(loss_values)\n",
    "plt.show()"
   ]
  },
  {
   "cell_type": "code",
   "execution_count": null,
   "metadata": {},
   "outputs": [],
   "source": [
    "batch_img = data.test.images[:10]   \n",
    "batch_img_noisy = np.copy(batch_img) + np.random.normal(loc=0.0, scale=0.15, size=batch_img.shape)\n",
    "output_imgs = sess.run(conv_trans_3, feed_dict={ img_noisy: batch_img_noisy, img_original: batch_img })\n",
    "\n",
    "fig, axes = plt.subplots(3, 10, figsize=(12, 4))\n",
    "for i, (img_org, img_noise, img_denoise) in enumerate(zip(batch_img, batch_img_noisy, output_imgs)):\n",
    "    ax = axes[0, i]\n",
    "    ax.axis(\"off\")\n",
    "    ax.imshow(img_org.reshape(28, 28), cmap=\"binary\")\n",
    "                        \n",
    "    ax = axes[1, i]\n",
    "    ax.axis(\"off\")\n",
    "    ax.imshow(img_noise.reshape(28, 28), cmap=\"binary\")\n",
    "                        \n",
    "    ax = axes[2, i]\n",
    "    ax.axis(\"off\")\n",
    "    ax.imshow(img_denoise.reshape(28, 28), cmap=\"binary\")\n",
    "\n",
    "plt.tight_layout()"
   ]
  }
 ],
 "metadata": {
  "kernelspec": {
   "display_name": "Python 3",
   "language": "python",
   "name": "python3"
  },
  "language_info": {
   "codemirror_mode": {
    "name": "ipython",
    "version": 3
   },
   "file_extension": ".py",
   "mimetype": "text/x-python",
   "name": "python",
   "nbconvert_exporter": "python",
   "pygments_lexer": "ipython3",
   "version": "3.6.4"
  }
 },
 "nbformat": 4,
 "nbformat_minor": 2
}
