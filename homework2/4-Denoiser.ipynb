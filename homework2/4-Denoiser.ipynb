{
 "cells": [
  {
   "cell_type": "code",
   "execution_count": 22,
   "metadata": {},
   "outputs": [],
   "source": [
    "## Importing Libraries\n",
    "%matplotlib inline\n",
    "import matplotlib.pyplot as plt\n",
    "import tensorflow as tf\n",
    "import numpy as np\n",
    "from tensorflow.examples.tutorials.mnist import input_data\n",
    "from ipywidgets import FloatProgress\n",
    "from IPython.display import display"
   ]
  },
  {
   "cell_type": "code",
   "execution_count": 2,
   "metadata": {},
   "outputs": [
    {
     "name": "stdout",
     "output_type": "stream",
     "text": [
      "Extracting MNIST\\train-images-idx3-ubyte.gz\n",
      "Extracting MNIST\\train-labels-idx1-ubyte.gz\n",
      "Extracting MNIST\\t10k-images-idx3-ubyte.gz\n",
      "Extracting MNIST\\t10k-labels-idx1-ubyte.gz\n"
     ]
    }
   ],
   "source": [
    "# Read data\n",
    "data = input_data.read_data_sets(\"MNIST\", one_hot=True)"
   ]
  },
  {
   "cell_type": "code",
   "execution_count": 43,
   "metadata": {},
   "outputs": [
    {
     "name": "stdout",
     "output_type": "stream",
     "text": [
      "input_layer (?, 28, 28, 1)\n",
      "conv1 (?, 24, 24, 32)\n",
      "pool1 (?, 12, 12, 32)\n",
      "conv2 (?, 8, 8, 64)\n",
      "pool2 (?, 4, 4, 64)\n",
      "conv2_flat (?, 1024)\n",
      "dense1 (?, 1024)\n",
      "dense2 (?, 100)\n",
      "dense_reshaped (?, 10, 10, 1)\n",
      "conv_trans_1 (?, 14, 14, 64)\n",
      "conv_trans_2 (?, 28, 28, 1)\n"
     ]
    }
   ],
   "source": [
    "# Placeholder for noisy image \n",
    "img_noisy = tf.placeholder(tf.float32, [None, 784])\n",
    "\n",
    "# Placeholder for original image\n",
    "img_original = tf.placeholder(tf.float32, [None, 784])\n",
    "\n",
    "# Input Layer\n",
    "input_layer = tf.reshape(img_noisy, [-1, 28, 28, 1])\n",
    "print(\"input_layer\", input_layer.shape)\n",
    "\n",
    "# Convolutional layer 1\n",
    "conv1 = tf.layers.conv2d(inputs=input_layer, filters=32, kernel_size=(5, 5), padding=\"valid\", activation=tf.nn.relu)\n",
    "print(\"conv1\", conv1.shape)\n",
    "\n",
    "# Pooling Layer #1\n",
    "pool1 = tf.layers.max_pooling2d(inputs=conv1, pool_size=[2, 2], strides=2)\n",
    "print(\"pool1\", pool1.shape)\n",
    "\n",
    "# Convolutional Layer #2 and Pooling Layer #2\n",
    "conv2 = tf.layers.conv2d(inputs=pool1, filters=64, kernel_size=(5, 5), padding=\"valid\", activation=tf.nn.relu)\n",
    "print(\"conv2\", conv2.shape)\n",
    "\n",
    "pool2 = tf.layers.max_pooling2d(inputs=conv2, pool_size=[2, 2], strides=2)\n",
    "print(\"pool2\", pool2.shape)\n",
    "\n",
    "# Fully-connected layer 1\n",
    "conv2_flat = tf.reshape(pool2, [-1, 4 * 4 * 64])\n",
    "print(\"conv2_flat\", conv2_flat.shape)\n",
    "\n",
    "dense1 = tf.layers.dense(inputs=conv2_flat, units=4*4*64, activation=tf.nn.relu)\n",
    "print(\"dense1\", dense1.shape)\n",
    "\n",
    "dense2 = tf.layers.dense(inputs=dense1, units=100, activation=tf.nn.relu)\n",
    "print(\"dense2\", dense2.shape)\n",
    "\n",
    "dense_reshaped = tf.reshape(dense2, [-1, 10, 10, 1])\n",
    "\n",
    "print(\"dense_reshaped\", dense_reshaped.shape)\n",
    "\n",
    "conv_trans_1 = tf.layers.conv2d_transpose(dense_reshaped,\n",
    "                                          filters=64,\n",
    "                                          kernel_size=(5, 5),\n",
    "                                          strides=(1, 1),\n",
    "                                          padding=\"valid\",\n",
    "                                          activation=tf.nn.relu)\n",
    "\n",
    "print(\"conv_trans_1\", conv_trans_1.shape)\n",
    "\n",
    "conv_trans_2 = tf.layers.conv2d_transpose(conv_trans_1,\n",
    "                                          filters=1,\n",
    "                                          kernel_size=(15, 15),\n",
    "                                          strides=(1, 1),\n",
    "                                          padding=\"valid\",\n",
    "                                          activation=tf.nn.relu)\n",
    "\n",
    "print(\"conv_trans_2\", conv_trans_2.shape)\n",
    "\n",
    "# Calculate loss\n",
    "loss = tf.reduce_mean(tf.pow(tf.subtract(tf.reshape(conv_trans_2, [-1, 784]), img_original), 2))"
   ]
  },
  {
   "cell_type": "code",
   "execution_count": 44,
   "metadata": {
    "scrolled": true
   },
   "outputs": [
    {
     "data": {
      "application/vnd.jupyter.widget-view+json": {
       "model_id": "a2eecfe16508494d99d296226541dba7",
       "version_major": 2,
       "version_minor": 0
      },
      "text/plain": [
       "A Jupyter Widget"
      ]
     },
     "metadata": {},
     "output_type": "display_data"
    }
   ],
   "source": [
    "optim = tf.train.AdamOptimizer(learning_rate=0.001).minimize(loss)\n",
    "\n",
    "sess = tf.InteractiveSession()\n",
    "tf.global_variables_initializer().run()\n",
    "\n",
    "# Make batches to train\n",
    "num_iter = 1000\n",
    "batch_size = 64\n",
    "loss_values = []\n",
    "progress = FloatProgress(min=0, max=num_iter); display(progress)\n",
    "for i in range(num_iter):\n",
    "    progress.description = \"Epoch %i/%i\" % (i, num_iter)\n",
    "    \n",
    "    # Get next batch\n",
    "    batch_img, _ = data.train.next_batch(batch_size)\n",
    "    \n",
    "    # Add noise to the batch\n",
    "    batch_img_noisy = np.copy(batch_img) + np.random.normal(loc=0.0, scale=0.15, size=batch_img.shape)\n",
    "    \n",
    "    # Do training\n",
    "    _, l, result_test = sess.run([optim, loss, conv_trans_2], feed_dict={ img_noisy: batch_img_noisy, img_original: batch_img })\n",
    "    loss_values.append(l)\n",
    "    \n",
    "    # Show progress\n",
    "    progress.value += 1"
   ]
  },
  {
   "cell_type": "code",
   "execution_count": 45,
   "metadata": {},
   "outputs": [
    {
     "data": {
      "image/png": "[encoded data removed]",
      "text/plain": [
       "<matplotlib.figure.Figure at 0x17b8f3f4240>"
      ]
     },
     "metadata": {},
     "output_type": "display_data"
    }
   ],
   "source": [
    "plt.plot(loss_values)\n",
    "plt.show()"
   ]
  },
  {
   "cell_type": "code",
   "execution_count": 46,
   "metadata": {},
   "outputs": [
    {
     "data": {
      "text/plain": [
       "(28, 28, 1)"
      ]
     },
     "execution_count": 46,
     "metadata": {},
     "output_type": "execute_result"
    }
   ],
   "source": [
    "result_test[0].shape"
   ]
  },
  {
   "cell_type": "code",
   "execution_count": 47,
   "metadata": {},
   "outputs": [
    {
     "data": {
      "image/png": "[encoded data removed]",
      "text/plain": [
       "<matplotlib.figure.Figure at 0x17b8f3f4080>"
      ]
     },
     "metadata": {},
     "output_type": "display_data"
    }
   ],
   "source": [
    "plot_images(batch_img[0])"
   ]
  },
  {
   "cell_type": "code",
   "execution_count": 48,
   "metadata": {},
   "outputs": [
    {
     "data": {
      "image/png": "[encoded data removed]",
      "text/plain": [
       "<matplotlib.figure.Figure at 0x17b95563dd8>"
      ]
     },
     "metadata": {},
     "output_type": "display_data"
    }
   ],
   "source": [
    "plot_images(batch_img_noisy[0])"
   ]
  },
  {
   "cell_type": "code",
   "execution_count": 49,
   "metadata": {},
   "outputs": [
    {
     "data": {
      "image/png": "[encoded data removed]",
      "text/plain": [
       "<matplotlib.figure.Figure at 0x17b95632390>"
      ]
     },
     "metadata": {},
     "output_type": "display_data"
    }
   ],
   "source": [
    "def plot_images(img):\n",
    "    plt.imshow(img.reshape(28,28), cmap=\"binary\")\n",
    "plot_images(result_test[0])"
   ]
  },
  {
   "cell_type": "code",
   "execution_count": null,
   "metadata": {
    "collapsed": true
   },
   "outputs": [],
   "source": [
    "fig, axes = plt.subplots(int(np.ceil(features.size(0) / 2.0)), 2, figsize=(15,25))\n",
    "for ax in axes.flatten():\n",
    "    ax.axis(\"off\")\n",
    "for j, img_id in enumerate(img_ids):\n",
    "    image = Image.open(os.path.join(data_dir, img_id)).convert('RGB')\n",
    "\n",
    "    ax = axes[j // 2, j % 2]\n",
    "    ax.imshow(np.asarray(image))\n",
    "\n",
    "    for k, reference in enumerate(data_loaders[\"test\"].dataset.reference_captions[img_id]):\n",
    "        references[k].append(reference)\n",
    "    caption = vocab.decode_sentence(sampled_captions[j])\n",
    "    captions.append(caption)\n",
    "    ax.set_title(\"%s\" % (caption))\n",
    "\n",
    "    images.append((img_id, caption))\n",
    "\n",
    "plt.tight_layout()"
   ]
  }
 ],
 "metadata": {
  "kernelspec": {
   "display_name": "Python 3",
   "language": "python",
   "name": "python3"
  },
  "language_info": {
   "codemirror_mode": {
    "name": "ipython",
    "version": 3
   },
   "file_extension": ".py",
   "mimetype": "text/x-python",
   "name": "python",
   "nbconvert_exporter": "python",
   "pygments_lexer": "ipython3",
   "version": "3.6.2"
  }
 },
 "nbformat": 4,
 "nbformat_minor": 2
}
