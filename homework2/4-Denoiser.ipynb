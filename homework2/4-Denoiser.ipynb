{
 "cells": [
  {
   "cell_type": "code",
   "execution_count": 1,
   "metadata": {},
   "outputs": [
    {
     "name": "stderr",
     "output_type": "stream",
     "text": [
      "C:\\Anaconda3\\lib\\site-packages\\h5py\\__init__.py:34: FutureWarning: Conversion of the second argument of issubdtype from `float` to `np.floating` is deprecated. In future, it will be treated as `np.float64 == np.dtype(float).type`.\n",
      "  from ._conv import register_converters as _register_converters\n"
     ]
    }
   ],
   "source": [
    "## Importing Libraries\n",
    "%matplotlib inline\n",
    "import matplotlib.pyplot as plt\n",
    "import tensorflow as tf\n",
    "import numpy as np\n",
    "from tensorflow.examples.tutorials.mnist import input_data"
   ]
  },
  {
   "cell_type": "code",
   "execution_count": 2,
   "metadata": {},
   "outputs": [
    {
     "name": "stdout",
     "output_type": "stream",
     "text": [
      "Extracting MNIST\\train-images-idx3-ubyte.gz\n",
      "Extracting MNIST\\train-labels-idx1-ubyte.gz\n",
      "Extracting MNIST\\t10k-images-idx3-ubyte.gz\n",
      "Extracting MNIST\\t10k-labels-idx1-ubyte.gz\n"
     ]
    }
   ],
   "source": [
    "# Read data\n",
    "data = input_data.read_data_sets(\"MNIST\", one_hot=True)"
   ]
  },
  {
   "cell_type": "code",
   "execution_count": 8,
   "metadata": {},
   "outputs": [
    {
     "name": "stdout",
     "output_type": "stream",
     "text": [
      "(?, 28, 28, 1)\n",
      "(?, 28, 28, 32)\n",
      "conv2 (?, 28, 28, 64)\n",
      "(?, 50176)\n",
      "(?, 1024)\n",
      "(?, 50176)\n",
      "(?, 28, 28, 64)\n",
      "(?, 28, 28, 32)\n",
      "(?, 28, 28, 1)\n"
     ]
    }
   ],
   "source": [
    "# Placeholder for noisy image \n",
    "img_noisy = tf.placeholder(tf.float32, [None, 784])\n",
    "\n",
    "# Placeholder for original image\n",
    "img_original = tf.placeholder(tf.float32, [None, 784])\n",
    "\n",
    "# Input Layer\n",
    "input_layer = tf.reshape(img_noisy, [-1, 28, 28, 1])\n",
    "\n",
    "print(input_layer.shape)\n",
    "\n",
    "# Convolutional Layer #1\n",
    "conv1 = tf.layers.conv2d(inputs=input_layer, filters=32, kernel_size=(5, 5), padding=\"same\", activation=tf.nn.relu)\n",
    "\n",
    "print(conv1.shape)\n",
    "\n",
    "# Pooling Layer #1\n",
    "#pool1 = tf.layers.max_pooling2d(inputs=conv1, pool_size=[2, 2], strides=2)\n",
    "#print(pool1.shape)\n",
    "\n",
    "# Convolutional Layer #2 and Pooling Layer #2\n",
    "conv2 = tf.layers.conv2d(inputs=conv1, filters=64, kernel_size=(5, 5), padding=\"same\", activation=tf.nn.relu)\n",
    "#pool2 = tf.layers.max_pooling2d(inputs=conv2, pool_size=[2, 2], strides=2)\n",
    "\n",
    "print(\"conv2\", conv2.shape)\n",
    "#print(pool2.shape)\n",
    "\n",
    "# Fully-connected layer 1\n",
    "conv2_flat = tf.reshape(conv2, [-1, 28 * 28 * 64])\n",
    "\n",
    "print(conv2_flat.shape)\n",
    "\n",
    "dense1 = tf.layers.dense(inputs=conv2_flat, units=4*4*64, activation=tf.nn.relu)\n",
    "\n",
    "print(dense1.shape)\n",
    "\n",
    "dense2 = tf.layers.dense(inputs=dense1, units=28*28*64, activation=tf.nn.relu)\n",
    "\n",
    "print(dense2.shape)\n",
    "\n",
    "dense_reshaped = tf.reshape(dense2, [-1, 28, 28, 64])\n",
    "\n",
    "print(dense_reshaped.shape)\n",
    "\n",
    "conv_trans_1 = tf.layers.conv2d_transpose(dense_reshaped,\n",
    "                                          filters=32,\n",
    "                                          kernel_size=(5, 5),\n",
    "                                          strides=(1, 1),\n",
    "                                          padding=\"same\",\n",
    "                                          activation=tf.nn.relu)\n",
    "\n",
    "print(conv_trans_1.shape)\n",
    "\n",
    "conv_trans_2 = tf.layers.conv2d_transpose(dense_reshaped,\n",
    "                                          filters=1,\n",
    "                                          kernel_size=(5, 5),\n",
    "                                          strides=(1, 1),\n",
    "                                          padding=\"same\",\n",
    "                                          activation=tf.nn.relu)\n",
    "\n",
    "print(conv_trans_2.shape)\n",
    "\n",
    "# Calculate loss\n",
    "loss = tf.reduce_mean(tf.subtract(conv_trans_2, img_original))"
   ]
  },
  {
   "cell_type": "code",
   "execution_count": null,
   "metadata": {
    "scrolled": true
   },
   "outputs": [],
   "source": [
    "optim = tf.train.AdamOptimizer(learning_rate=0.001).minimize(loss)\n",
    "\n",
    "sess = tf.InteractiveSession()\n",
    "tf.global_variables_initializer().run()\n",
    "\n",
    "# Make batches to train\n",
    "num_iter = 1000\n",
    "batch_size = 64\n",
    "for i in range(num_iter):\n",
    "    batch_img, _ = data.train.next_batch(batch_size)\n",
    "    \n",
    "    # Add noise to the batch\n",
    "    batch_img_noisy = np.copy(batch_img) + np.random.normal(loc=0.0, scale=0.15, size=batch_img.shape)\n",
    "    \n",
    "    _, l = sess.run([optim, loss], feed_dict={ img_noisy: batch_img_noisy, img_original: batch_img })\n",
    "    print(l)"
   ]
  },
  {
   "cell_type": "code",
   "execution_count": null,
   "metadata": {
    "collapsed": true
   },
   "outputs": [],
   "source": []
  }
 ],
 "metadata": {
  "kernelspec": {
   "display_name": "Python 3",
   "language": "python",
   "name": "python3"
  },
  "language_info": {
   "codemirror_mode": {
    "name": "ipython",
    "version": 3
   },
   "file_extension": ".py",
   "mimetype": "text/x-python",
   "name": "python",
   "nbconvert_exporter": "python",
   "pygments_lexer": "ipython3",
   "version": "3.6.2"
  }
 },
 "nbformat": 4,
 "nbformat_minor": 2
}
