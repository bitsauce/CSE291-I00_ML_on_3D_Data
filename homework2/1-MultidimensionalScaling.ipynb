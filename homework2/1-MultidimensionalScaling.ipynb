{
 "cells": [
  {
   "cell_type": "code",
   "execution_count": null,
   "metadata": {
    "collapsed": false
   },
   "outputs": [],
   "source": [
    "%matplotlib inline\n",
    "import matplotlib.pyplot as plt\n",
    "from tensorflow.examples.tutorials.mnist import input_data\n",
    "import tensorflow as tf\n",
    "import numpy as np\n",
    "\n",
    "mnist = input_data.read_data_sets(\"MNIST_data/\")"
   ]
  },
  {
   "cell_type": "code",
   "execution_count": null,
   "metadata": {
    "collapsed": false
   },
   "outputs": [],
   "source": [
    "samples = [[] for i in range(10)]\n",
    "\n",
    "for image, label in zip(mnist.train.images, mnist.train.labels):\n",
    "    if len(samples[label]) < 1: # 1000:\n",
    "        samples[label].append(image)\n",
    "samples = [image for s in samples for image in s] # flatten"
   ]
  },
  {
   "cell_type": "code",
   "execution_count": null,
   "metadata": {
    "collapsed": false
   },
   "outputs": [],
   "source": [
    "N = len(samples)\n",
    "D = np.zeros((N, N))\n",
    "for i, image1 in enumerate(samples):\n",
    "    for j, image2 in enumerate(samples[i:]):\n",
    "        D[j, i] = D[i, j] = np.sqrt(np.sum((image1-image2)**2))\n",
    "D = tf.constant(D, dtype=tf.float32)"
   ]
  },
  {
   "cell_type": "code",
   "execution_count": null,
   "metadata": {
    "collapsed": false
   },
   "outputs": [],
   "source": [
    "X = tf.Variable(initial_value=tf.random_uniform((N, 2), -1.0, 1.0), name='X')\n",
    "\n",
    "loss = 0.0\n",
    "for i in range(N):\n",
    "    for j in range(i, N):\n",
    "        x_dist = tf.sqrt(tf.reduce_sum(tf.pow(X[i] - X[j], 2)))\n",
    "        loss += tf.pow(x_dist - D[i, j], 2)"
   ]
  },
  {
   "cell_type": "code",
   "execution_count": null,
   "metadata": {
    "collapsed": false
   },
   "outputs": [],
   "source": [
    "opt = tf.train.GradientDescentOptimizer(0.0035)\n",
    "train = opt.minimize(loss)\n",
    "sess = tf.Session()\n",
    "sess.run(tf.global_variables_initializer())\n",
    "for step in range(5):\n",
    "    sess.run(train)\n",
    "    print(sess.run(loss))"
   ]
  }
 ],
 "metadata": {
  "kernelspec": {
   "display_name": "Python 3",
   "language": "python",
   "name": "python3"
  },
  "language_info": {
   "codemirror_mode": {
    "name": "ipython",
    "version": 3
   },
   "file_extension": ".py",
   "mimetype": "text/x-python",
   "name": "python",
   "nbconvert_exporter": "python",
   "pygments_lexer": "ipython3",
   "version": "3.6.0"
  }
 },
 "nbformat": 4,
 "nbformat_minor": 2
}
